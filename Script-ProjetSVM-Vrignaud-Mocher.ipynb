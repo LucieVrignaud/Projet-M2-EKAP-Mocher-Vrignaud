{
 "cells": [
  {
   "cell_type": "markdown",
   "metadata": {},
   "source": [
    "# Importation des librairies et données"
   ]
  },
  {
   "cell_type": "markdown",
   "metadata": {},
   "source": [
    "### Chargement des librairies"
   ]
  },
  {
   "cell_type": "code",
   "execution_count": 1,
   "metadata": {},
   "outputs": [],
   "source": [
    "import warnings\n",
    "warnings.filterwarnings('ignore')\n",
    "\n",
    "import pandas as pd\n",
    "import numpy as np\n",
    "import matplotlib.pyplot as plt\n",
    "import seaborn as sns\n",
    "import tensorflow as tf\n",
    "import keras as ks\n",
    "\n",
    "from sklearn.preprocessing import Binarizer\n",
    "from sklearn.model_selection import train_test_split\n",
    "from sklearn.preprocessing import StandardScaler\n",
    "from sklearn.pipeline import Pipeline\n",
    "\n",
    "from sklearn.model_selection import GridSearchCV, RandomizedSearchCV\n",
    "from sklearn.model_selection import StratifiedKFold #Conserve la répartition pendant la séparation\n",
    "from sklearn.svm import SVC\n",
    "from sklearn.linear_model import LogisticRegression\n",
    "\n",
    "from sklearn.metrics import roc_auc_score\n",
    "from sklearn.metrics import roc_curve\n",
    "from sklearn.model_selection import cross_val_score\n",
    "from sklearn.metrics import confusion_matrix, classification_report\n",
    "from sklearn.metrics import precision_recall_curve\n",
    "\n",
    "from sklearn.model_selection import learning_curve\n",
    "from sklearn.feature_selection import SelectKBest, f_classif"
   ]
  },
  {
   "cell_type": "code",
   "execution_count": 2,
   "metadata": {},
   "outputs": [],
   "source": [
    "from keras.models import Sequential\n",
    "from keras.layers import Dense, Flatten\n",
    "from keras.wrappers.scikit_learn import KerasClassifier"
   ]
  },
  {
   "cell_type": "markdown",
   "metadata": {},
   "source": [
    "### Importation de la base"
   ]
  },
  {
   "cell_type": "code",
   "execution_count": 3,
   "metadata": {},
   "outputs": [],
   "source": [
    "# On utilise la base de données complète pour les statistiques descriptives\n",
    "data = pd.read_csv(\"/Users/cecilemocher/Documents/M2/SVM-ANN/ProjetSVM/ventilator-pressure-prediction/train.csv\", sep=\",\")\n"
   ]
  },
  {
   "cell_type": "markdown",
   "metadata": {},
   "source": [
    "# EDA"
   ]
  },
  {
   "cell_type": "markdown",
   "metadata": {},
   "source": [
    "## Analyse de forme"
   ]
  },
  {
   "cell_type": "code",
   "execution_count": 4,
   "metadata": {},
   "outputs": [
    {
     "data": {
      "text/html": [
       "<div>\n",
       "<style scoped>\n",
       "    .dataframe tbody tr th:only-of-type {\n",
       "        vertical-align: middle;\n",
       "    }\n",
       "\n",
       "    .dataframe tbody tr th {\n",
       "        vertical-align: top;\n",
       "    }\n",
       "\n",
       "    .dataframe thead th {\n",
       "        text-align: right;\n",
       "    }\n",
       "</style>\n",
       "<table border=\"1\" class=\"dataframe\">\n",
       "  <thead>\n",
       "    <tr style=\"text-align: right;\">\n",
       "      <th></th>\n",
       "      <th>id</th>\n",
       "      <th>breath_id</th>\n",
       "      <th>R</th>\n",
       "      <th>C</th>\n",
       "      <th>time_step</th>\n",
       "      <th>u_in</th>\n",
       "      <th>u_out</th>\n",
       "      <th>pressure</th>\n",
       "    </tr>\n",
       "  </thead>\n",
       "  <tbody>\n",
       "    <tr>\n",
       "      <td>0</td>\n",
       "      <td>1</td>\n",
       "      <td>1</td>\n",
       "      <td>20</td>\n",
       "      <td>50</td>\n",
       "      <td>0.000000</td>\n",
       "      <td>0.083334</td>\n",
       "      <td>0</td>\n",
       "      <td>5.837492</td>\n",
       "    </tr>\n",
       "    <tr>\n",
       "      <td>1</td>\n",
       "      <td>2</td>\n",
       "      <td>1</td>\n",
       "      <td>20</td>\n",
       "      <td>50</td>\n",
       "      <td>0.033652</td>\n",
       "      <td>18.383041</td>\n",
       "      <td>0</td>\n",
       "      <td>5.907794</td>\n",
       "    </tr>\n",
       "    <tr>\n",
       "      <td>2</td>\n",
       "      <td>3</td>\n",
       "      <td>1</td>\n",
       "      <td>20</td>\n",
       "      <td>50</td>\n",
       "      <td>0.067514</td>\n",
       "      <td>22.509278</td>\n",
       "      <td>0</td>\n",
       "      <td>7.876254</td>\n",
       "    </tr>\n",
       "    <tr>\n",
       "      <td>3</td>\n",
       "      <td>4</td>\n",
       "      <td>1</td>\n",
       "      <td>20</td>\n",
       "      <td>50</td>\n",
       "      <td>0.101542</td>\n",
       "      <td>22.808822</td>\n",
       "      <td>0</td>\n",
       "      <td>11.742872</td>\n",
       "    </tr>\n",
       "    <tr>\n",
       "      <td>4</td>\n",
       "      <td>5</td>\n",
       "      <td>1</td>\n",
       "      <td>20</td>\n",
       "      <td>50</td>\n",
       "      <td>0.135756</td>\n",
       "      <td>25.355850</td>\n",
       "      <td>0</td>\n",
       "      <td>12.234987</td>\n",
       "    </tr>\n",
       "    <tr>\n",
       "      <td>5</td>\n",
       "      <td>6</td>\n",
       "      <td>1</td>\n",
       "      <td>20</td>\n",
       "      <td>50</td>\n",
       "      <td>0.169698</td>\n",
       "      <td>27.259866</td>\n",
       "      <td>0</td>\n",
       "      <td>12.867706</td>\n",
       "    </tr>\n",
       "    <tr>\n",
       "      <td>6</td>\n",
       "      <td>7</td>\n",
       "      <td>1</td>\n",
       "      <td>20</td>\n",
       "      <td>50</td>\n",
       "      <td>0.203708</td>\n",
       "      <td>27.127486</td>\n",
       "      <td>0</td>\n",
       "      <td>14.695562</td>\n",
       "    </tr>\n",
       "    <tr>\n",
       "      <td>7</td>\n",
       "      <td>8</td>\n",
       "      <td>1</td>\n",
       "      <td>20</td>\n",
       "      <td>50</td>\n",
       "      <td>0.237723</td>\n",
       "      <td>26.807732</td>\n",
       "      <td>0</td>\n",
       "      <td>15.890699</td>\n",
       "    </tr>\n",
       "    <tr>\n",
       "      <td>8</td>\n",
       "      <td>9</td>\n",
       "      <td>1</td>\n",
       "      <td>20</td>\n",
       "      <td>50</td>\n",
       "      <td>0.271776</td>\n",
       "      <td>27.864715</td>\n",
       "      <td>0</td>\n",
       "      <td>15.539188</td>\n",
       "    </tr>\n",
       "    <tr>\n",
       "      <td>9</td>\n",
       "      <td>10</td>\n",
       "      <td>1</td>\n",
       "      <td>20</td>\n",
       "      <td>50</td>\n",
       "      <td>0.305732</td>\n",
       "      <td>28.313036</td>\n",
       "      <td>0</td>\n",
       "      <td>15.750094</td>\n",
       "    </tr>\n",
       "  </tbody>\n",
       "</table>\n",
       "</div>"
      ],
      "text/plain": [
       "   id  breath_id   R   C  time_step       u_in  u_out   pressure\n",
       "0   1          1  20  50   0.000000   0.083334      0   5.837492\n",
       "1   2          1  20  50   0.033652  18.383041      0   5.907794\n",
       "2   3          1  20  50   0.067514  22.509278      0   7.876254\n",
       "3   4          1  20  50   0.101542  22.808822      0  11.742872\n",
       "4   5          1  20  50   0.135756  25.355850      0  12.234987\n",
       "5   6          1  20  50   0.169698  27.259866      0  12.867706\n",
       "6   7          1  20  50   0.203708  27.127486      0  14.695562\n",
       "7   8          1  20  50   0.237723  26.807732      0  15.890699\n",
       "8   9          1  20  50   0.271776  27.864715      0  15.539188\n",
       "9  10          1  20  50   0.305732  28.313036      0  15.750094"
      ]
     },
     "execution_count": 4,
     "metadata": {},
     "output_type": "execute_result"
    }
   ],
   "source": [
    "#Aperçu de la base\n",
    "data.head(10)"
   ]
  },
  {
   "cell_type": "code",
   "execution_count": 5,
   "metadata": {},
   "outputs": [],
   "source": [
    "# Suppresion de la colonne id qui ne nous sera pas utile\n",
    "data = data.drop(columns=['id'])"
   ]
  },
  {
   "cell_type": "code",
   "execution_count": 6,
   "metadata": {
    "scrolled": false
   },
   "outputs": [
    {
     "data": {
      "text/plain": [
       "<AxesSubplot:>"
      ]
     },
     "execution_count": 6,
     "metadata": {},
     "output_type": "execute_result"
    },
    {
     "data": {
      "image/png": "[encoded data removed]",
      "text/plain": [
       "<Figure size 1440x720 with 1 Axes>"
      ]
     },
     "metadata": {
      "needs_background": "light"
     },
     "output_type": "display_data"
    }
   ],
   "source": [
    "#Graphique des valeurs manqantes\n",
    "plt.figure(figsize=(20,10))\n",
    "sns.heatmap(data.isna(), cbar=False) #Graphique entièrement noir donc aucune valeur manquante"
   ]
  },
  {
   "cell_type": "code",
   "execution_count": 7,
   "metadata": {},
   "outputs": [
    {
     "data": {
      "text/plain": [
       "breath_id    0.0\n",
       "R            0.0\n",
       "C            0.0\n",
       "time_step    0.0\n",
       "u_in         0.0\n",
       "u_out        0.0\n",
       "pressure     0.0\n",
       "dtype: float64"
      ]
     },
     "execution_count": 7,
     "metadata": {},
     "output_type": "execute_result"
    }
   ],
   "source": [
    "#Confirmation de la non présence de valeurs manquantes\n",
    "data.isna().sum()/data.shape[0]"
   ]
  },
  {
   "cell_type": "code",
   "execution_count": 8,
   "metadata": {},
   "outputs": [
    {
     "data": {
      "text/plain": [
       "(6036000, 7)"
      ]
     },
     "execution_count": 8,
     "metadata": {},
     "output_type": "execute_result"
    }
   ],
   "source": [
    "#Dimension de la base\n",
    "data.shape"
   ]
  },
  {
   "cell_type": "code",
   "execution_count": 9,
   "metadata": {},
   "outputs": [
    {
     "name": "stdout",
     "output_type": "stream",
     "text": [
      "<class 'pandas.core.frame.DataFrame'>\n",
      "RangeIndex: 6036000 entries, 0 to 6035999\n",
      "Data columns (total 7 columns):\n",
      "breath_id    int64\n",
      "R            int64\n",
      "C            int64\n",
      "time_step    float64\n",
      "u_in         float64\n",
      "u_out        int64\n",
      "pressure     float64\n",
      "dtypes: float64(3), int64(4)\n",
      "memory usage: 322.4 MB\n"
     ]
    }
   ],
   "source": [
    "#Type des variables\n",
    "data.info()"
   ]
  },
  {
   "cell_type": "code",
   "execution_count": 10,
   "metadata": {},
   "outputs": [
    {
     "data": {
      "text/plain": [
       "int64      4\n",
       "float64    3\n",
       "dtype: int64"
      ]
     },
     "execution_count": 10,
     "metadata": {},
     "output_type": "execute_result"
    }
   ],
   "source": [
    "#Nombre de variable par type\n",
    "data.dtypes.value_counts()"
   ]
  },
  {
   "cell_type": "markdown",
   "metadata": {},
   "source": [
    "## Analyse de fond"
   ]
  },
  {
   "cell_type": "code",
   "execution_count": 11,
   "metadata": {},
   "outputs": [
    {
     "data": {
      "text/html": [
       "<div>\n",
       "<style scoped>\n",
       "    .dataframe tbody tr th:only-of-type {\n",
       "        vertical-align: middle;\n",
       "    }\n",
       "\n",
       "    .dataframe tbody tr th {\n",
       "        vertical-align: top;\n",
       "    }\n",
       "\n",
       "    .dataframe thead th {\n",
       "        text-align: right;\n",
       "    }\n",
       "</style>\n",
       "<table border=\"1\" class=\"dataframe\">\n",
       "  <thead>\n",
       "    <tr style=\"text-align: right;\">\n",
       "      <th></th>\n",
       "      <th>breath_id</th>\n",
       "      <th>R</th>\n",
       "      <th>C</th>\n",
       "      <th>time_step</th>\n",
       "      <th>u_in</th>\n",
       "      <th>u_out</th>\n",
       "      <th>pressure</th>\n",
       "    </tr>\n",
       "  </thead>\n",
       "  <tbody>\n",
       "    <tr>\n",
       "      <td>count</td>\n",
       "      <td>6036000.00</td>\n",
       "      <td>6036000.00</td>\n",
       "      <td>6036000.00</td>\n",
       "      <td>6036000.00</td>\n",
       "      <td>6036000.00</td>\n",
       "      <td>6036000.00</td>\n",
       "      <td>6036000.00</td>\n",
       "    </tr>\n",
       "    <tr>\n",
       "      <td>mean</td>\n",
       "      <td>62838.86</td>\n",
       "      <td>27.04</td>\n",
       "      <td>26.08</td>\n",
       "      <td>1.31</td>\n",
       "      <td>7.32</td>\n",
       "      <td>0.62</td>\n",
       "      <td>11.22</td>\n",
       "    </tr>\n",
       "    <tr>\n",
       "      <td>std</td>\n",
       "      <td>36335.26</td>\n",
       "      <td>19.60</td>\n",
       "      <td>17.15</td>\n",
       "      <td>0.77</td>\n",
       "      <td>13.43</td>\n",
       "      <td>0.49</td>\n",
       "      <td>8.11</td>\n",
       "    </tr>\n",
       "    <tr>\n",
       "      <td>min</td>\n",
       "      <td>1.00</td>\n",
       "      <td>5.00</td>\n",
       "      <td>10.00</td>\n",
       "      <td>0.00</td>\n",
       "      <td>0.00</td>\n",
       "      <td>0.00</td>\n",
       "      <td>-1.90</td>\n",
       "    </tr>\n",
       "    <tr>\n",
       "      <td>25%</td>\n",
       "      <td>31377.00</td>\n",
       "      <td>5.00</td>\n",
       "      <td>10.00</td>\n",
       "      <td>0.64</td>\n",
       "      <td>0.39</td>\n",
       "      <td>0.00</td>\n",
       "      <td>6.33</td>\n",
       "    </tr>\n",
       "    <tr>\n",
       "      <td>50%</td>\n",
       "      <td>62765.50</td>\n",
       "      <td>20.00</td>\n",
       "      <td>20.00</td>\n",
       "      <td>1.31</td>\n",
       "      <td>4.39</td>\n",
       "      <td>1.00</td>\n",
       "      <td>7.03</td>\n",
       "    </tr>\n",
       "    <tr>\n",
       "      <td>75%</td>\n",
       "      <td>94301.00</td>\n",
       "      <td>50.00</td>\n",
       "      <td>50.00</td>\n",
       "      <td>1.97</td>\n",
       "      <td>4.98</td>\n",
       "      <td>1.00</td>\n",
       "      <td>13.64</td>\n",
       "    </tr>\n",
       "    <tr>\n",
       "      <td>max</td>\n",
       "      <td>125749.00</td>\n",
       "      <td>50.00</td>\n",
       "      <td>50.00</td>\n",
       "      <td>2.94</td>\n",
       "      <td>100.00</td>\n",
       "      <td>1.00</td>\n",
       "      <td>64.82</td>\n",
       "    </tr>\n",
       "  </tbody>\n",
       "</table>\n",
       "</div>"
      ],
      "text/plain": [
       "        breath_id           R           C   time_step        u_in       u_out  \\\n",
       "count  6036000.00  6036000.00  6036000.00  6036000.00  6036000.00  6036000.00   \n",
       "mean     62838.86       27.04       26.08        1.31        7.32        0.62   \n",
       "std      36335.26       19.60       17.15        0.77       13.43        0.49   \n",
       "min          1.00        5.00       10.00        0.00        0.00        0.00   \n",
       "25%      31377.00        5.00       10.00        0.64        0.39        0.00   \n",
       "50%      62765.50       20.00       20.00        1.31        4.39        1.00   \n",
       "75%      94301.00       50.00       50.00        1.97        4.98        1.00   \n",
       "max     125749.00       50.00       50.00        2.94      100.00        1.00   \n",
       "\n",
       "         pressure  \n",
       "count  6036000.00  \n",
       "mean        11.22  \n",
       "std          8.11  \n",
       "min         -1.90  \n",
       "25%          6.33  \n",
       "50%          7.03  \n",
       "75%         13.64  \n",
       "max         64.82  "
      ]
     },
     "execution_count": 11,
     "metadata": {},
     "output_type": "execute_result"
    }
   ],
   "source": [
    "#Statistiques descriptives de la base\n",
    "data.describe().round(2)"
   ]
  },
  {
   "cell_type": "code",
   "execution_count": 12,
   "metadata": {},
   "outputs": [
    {
     "data": {
      "text/plain": [
       "7.032628177739799"
      ]
     },
     "execution_count": 12,
     "metadata": {},
     "output_type": "execute_result"
    }
   ],
   "source": [
    "#Médiane de la variable à expliquer\n",
    "data.pressure.median()"
   ]
  },
  {
   "cell_type": "code",
   "execution_count": 13,
   "metadata": {},
   "outputs": [
    {
     "data": {
      "text/html": [
       "<div>\n",
       "<style scoped>\n",
       "    .dataframe tbody tr th:only-of-type {\n",
       "        vertical-align: middle;\n",
       "    }\n",
       "\n",
       "    .dataframe tbody tr th {\n",
       "        vertical-align: top;\n",
       "    }\n",
       "\n",
       "    .dataframe thead th {\n",
       "        text-align: right;\n",
       "    }\n",
       "</style>\n",
       "<table border=\"1\" class=\"dataframe\">\n",
       "  <thead>\n",
       "    <tr style=\"text-align: right;\">\n",
       "      <th></th>\n",
       "      <th>breath_id</th>\n",
       "      <th>R</th>\n",
       "      <th>C</th>\n",
       "      <th>time_step</th>\n",
       "      <th>u_in</th>\n",
       "      <th>u_out</th>\n",
       "      <th>pressure</th>\n",
       "    </tr>\n",
       "  </thead>\n",
       "  <tbody>\n",
       "    <tr>\n",
       "      <td>breath_id</td>\n",
       "      <td>1.000000</td>\n",
       "      <td>0.001860</td>\n",
       "      <td>0.007222</td>\n",
       "      <td>-0.000213</td>\n",
       "      <td>-0.002378</td>\n",
       "      <td>-0.000100</td>\n",
       "      <td>-0.002394</td>\n",
       "    </tr>\n",
       "    <tr>\n",
       "      <td>R</td>\n",
       "      <td>0.001860</td>\n",
       "      <td>1.000000</td>\n",
       "      <td>-0.096070</td>\n",
       "      <td>-0.014535</td>\n",
       "      <td>-0.148120</td>\n",
       "      <td>-0.007594</td>\n",
       "      <td>0.015976</td>\n",
       "    </tr>\n",
       "    <tr>\n",
       "      <td>C</td>\n",
       "      <td>0.007222</td>\n",
       "      <td>-0.096070</td>\n",
       "      <td>1.000000</td>\n",
       "      <td>0.004936</td>\n",
       "      <td>0.151002</td>\n",
       "      <td>0.003720</td>\n",
       "      <td>-0.036727</td>\n",
       "    </tr>\n",
       "    <tr>\n",
       "      <td>time_step</td>\n",
       "      <td>-0.000213</td>\n",
       "      <td>-0.014535</td>\n",
       "      <td>0.004936</td>\n",
       "      <td>1.000000</td>\n",
       "      <td>-0.352276</td>\n",
       "      <td>0.839191</td>\n",
       "      <td>-0.524829</td>\n",
       "    </tr>\n",
       "    <tr>\n",
       "      <td>u_in</td>\n",
       "      <td>-0.002378</td>\n",
       "      <td>-0.148120</td>\n",
       "      <td>0.151002</td>\n",
       "      <td>-0.352276</td>\n",
       "      <td>1.000000</td>\n",
       "      <td>-0.416985</td>\n",
       "      <td>0.308136</td>\n",
       "    </tr>\n",
       "    <tr>\n",
       "      <td>u_out</td>\n",
       "      <td>-0.000100</td>\n",
       "      <td>-0.007594</td>\n",
       "      <td>0.003720</td>\n",
       "      <td>0.839191</td>\n",
       "      <td>-0.416985</td>\n",
       "      <td>1.000000</td>\n",
       "      <td>-0.614910</td>\n",
       "    </tr>\n",
       "    <tr>\n",
       "      <td>pressure</td>\n",
       "      <td>-0.002394</td>\n",
       "      <td>0.015976</td>\n",
       "      <td>-0.036727</td>\n",
       "      <td>-0.524829</td>\n",
       "      <td>0.308136</td>\n",
       "      <td>-0.614910</td>\n",
       "      <td>1.000000</td>\n",
       "    </tr>\n",
       "  </tbody>\n",
       "</table>\n",
       "</div>"
      ],
      "text/plain": [
       "           breath_id         R         C  time_step      u_in     u_out  \\\n",
       "breath_id   1.000000  0.001860  0.007222  -0.000213 -0.002378 -0.000100   \n",
       "R           0.001860  1.000000 -0.096070  -0.014535 -0.148120 -0.007594   \n",
       "C           0.007222 -0.096070  1.000000   0.004936  0.151002  0.003720   \n",
       "time_step  -0.000213 -0.014535  0.004936   1.000000 -0.352276  0.839191   \n",
       "u_in       -0.002378 -0.148120  0.151002  -0.352276  1.000000 -0.416985   \n",
       "u_out      -0.000100 -0.007594  0.003720   0.839191 -0.416985  1.000000   \n",
       "pressure   -0.002394  0.015976 -0.036727  -0.524829  0.308136 -0.614910   \n",
       "\n",
       "           pressure  \n",
       "breath_id -0.002394  \n",
       "R          0.015976  \n",
       "C         -0.036727  \n",
       "time_step -0.524829  \n",
       "u_in       0.308136  \n",
       "u_out     -0.614910  \n",
       "pressure   1.000000  "
      ]
     },
     "execution_count": 13,
     "metadata": {},
     "output_type": "execute_result"
    }
   ],
   "source": [
    "#Corrélation entre les variables\n",
    "data.corr()"
   ]
  },
  {
   "cell_type": "markdown",
   "metadata": {},
   "source": [
    "### Gaphiques"
   ]
  },
  {
   "cell_type": "code",
   "execution_count": 14,
   "metadata": {},
   "outputs": [
    {
     "data": {
      "text/plain": [
       "<AxesSubplot:>"
      ]
     },
     "execution_count": 14,
     "metadata": {},
     "output_type": "execute_result"
    },
    {
     "data": {
      "image/png": "[encoded data removed]",
      "text/plain": [
       "<Figure size 540x360 with 3 Axes>"
      ]
     },
     "metadata": {
      "needs_background": "light"
     },
     "output_type": "display_data"
    }
   ],
   "source": [
    "# Boxplot des variables float\n",
    "plt.figure(figsize=(7.5,5))\n",
    "plt.subplot(1,3,1)\n",
    "data.boxplot('pressure', grid=False)\n",
    "plt.subplot(1,3,2)\n",
    "data.boxplot('u_in', grid = False)\n",
    "plt.subplot(1,3,3)\n",
    "data.boxplot('time_step', grid=False)"
   ]
  },
  {
   "cell_type": "code",
   "execution_count": 15,
   "metadata": {},
   "outputs": [
    {
     "data": {
      "image/png": "[encoded data removed]",
      "text/plain": [
       "<Figure size 432x288 with 1 Axes>"
      ]
     },
     "metadata": {
      "needs_background": "light"
     },
     "output_type": "display_data"
    },
    {
     "data": {
      "image/png": "[encoded data removed]",
      "text/plain": [
       "<Figure size 432x288 with 1 Axes>"
      ]
     },
     "metadata": {
      "needs_background": "light"
     },
     "output_type": "display_data"
    },
    {
     "data": {
      "image/png": "[encoded data removed]",
      "text/plain": [
       "<Figure size 432x288 with 1 Axes>"
      ]
     },
     "metadata": {
      "needs_background": "light"
     },
     "output_type": "display_data"
    }
   ],
   "source": [
    "#Graphique de la distribution des variables réelles\n",
    "for col in data.select_dtypes('float'):\n",
    "    plt.figure()\n",
    "    sns.distplot(data[col])"
   ]
  },
  {
   "cell_type": "code",
   "execution_count": 16,
   "metadata": {},
   "outputs": [
    {
     "data": {
      "image/png": "[encoded data removed]",
      "text/plain": [
       "<Figure size 432x288 with 1 Axes>"
      ]
     },
     "metadata": {},
     "output_type": "display_data"
    },
    {
     "data": {
      "image/png": "[encoded data removed]",
      "text/plain": [
       "<Figure size 432x288 with 1 Axes>"
      ]
     },
     "metadata": {},
     "output_type": "display_data"
    },
    {
     "data": {
      "image/png": "[encoded data removed]",
      "text/plain": [
       "<Figure size 432x288 with 1 Axes>"
      ]
     },
     "metadata": {},
     "output_type": "display_data"
    }
   ],
   "source": [
    "# Suppresion de la colonne breath_id qui ne nous sera pas utile pour les graphiques suivants\n",
    "data_int = data.drop(columns=['breath_id'])\n",
    "\n",
    "for col in data_int.select_dtypes('int64'):\n",
    "    plt.figure()\n",
    "    data_int[col].value_counts().plot.pie()"
   ]
  },
  {
   "cell_type": "code",
   "execution_count": 17,
   "metadata": {},
   "outputs": [
    {
     "data": {
      "text/plain": [
       "Text(0.5, 1.0, \"Nombre d'observations dans chaque modalité de la variable 'R'\")"
      ]
     },
     "execution_count": 17,
     "metadata": {},
     "output_type": "execute_result"
    },
    {
     "data": {
      "image/png": "[encoded data removed]",
      "text/plain": [
       "<Figure size 432x288 with 1 Axes>"
      ]
     },
     "metadata": {
      "needs_background": "light"
     },
     "output_type": "display_data"
    }
   ],
   "source": [
    "#Effectifs des différentes modalités de la variable R\n",
    "sns.countplot(data.R)\n",
    "plt.xlabel('Differentes modalités')\n",
    "plt.ylabel(\"Nbr d'observations pour chaque modalité\")\n",
    "plt.title(\"Nombre d'observations dans chaque modalité de la variable 'R'\",\n",
    "          fontsize=15,family = 'serif',fontweight = 'bold')"
   ]
  },
  {
   "cell_type": "code",
   "execution_count": 18,
   "metadata": {},
   "outputs": [
    {
     "data": {
      "text/plain": [
       "Text(0.5, 1.0, \"Nombre d'observations dans chaque modalité de la variable 'C'\")"
      ]
     },
     "execution_count": 18,
     "metadata": {},
     "output_type": "execute_result"
    },
    {
     "data": {
      "image/png": "[encoded data removed]",
      "text/plain": [
       "<Figure size 432x288 with 1 Axes>"
      ]
     },
     "metadata": {
      "needs_background": "light"
     },
     "output_type": "display_data"
    }
   ],
   "source": [
    "#Effectifs des différentes modalités de la variable c\n",
    "sns.countplot(data.C)\n",
    "plt.xlabel('Differentes modalités')\n",
    "plt.ylabel(\"Nbr d'observations pour chaque modalité\")\n",
    "plt.title(\"Nombre d'observations dans chaque modalité de la variable 'C'\",\n",
    "          fontsize=15,family = 'serif',fontweight = 'bold')"
   ]
  },
  {
   "cell_type": "code",
   "execution_count": 19,
   "metadata": {},
   "outputs": [
    {
     "data": {
      "text/plain": [
       "Text(0.5, 1.0, \"Nombre d'observations dans chaque modalité de la variable 'u_out'\")"
      ]
     },
     "execution_count": 19,
     "metadata": {},
     "output_type": "execute_result"
    },
    {
     "data": {
      "image/png": "[encoded data removed]",
      "text/plain": [
       "<Figure size 432x288 with 1 Axes>"
      ]
     },
     "metadata": {
      "needs_background": "light"
     },
     "output_type": "display_data"
    }
   ],
   "source": [
    "#Effectifs des différentes modalités de la variable u_out\n",
    "sns.countplot(data.u_out)\n",
    "plt.xlabel('Differentes modalités')\n",
    "plt.ylabel(\"Nbr d'observations pour chaque modalité\")\n",
    "plt.title(\"Nombre d'observations dans chaque modalité de la variable 'u_out'\",\n",
    "          fontsize=15,family = 'serif',fontweight = 'bold')"
   ]
  },
  {
   "cell_type": "markdown",
   "metadata": {},
   "source": [
    "### Relation Target/ Features"
   ]
  },
  {
   "cell_type": "markdown",
   "metadata": {},
   "source": [
    "#### Création des matrices target et features"
   ]
  },
  {
   "cell_type": "code",
   "execution_count": 20,
   "metadata": {},
   "outputs": [],
   "source": [
    "y = np.asarray(data.pressure)\n",
    "X = np.array(data.drop(columns = [\"pressure\"]))"
   ]
  },
  {
   "cell_type": "code",
   "execution_count": 21,
   "metadata": {},
   "outputs": [
    {
     "name": "stdout",
     "output_type": "stream",
     "text": [
      "(6036000, 1)\n"
     ]
    }
   ],
   "source": [
    "y = y.reshape(-1,1)\n",
    "print(y.shape)"
   ]
  },
  {
   "cell_type": "markdown",
   "metadata": {},
   "source": [
    "#### Transformation de la variable y en variable binaire"
   ]
  },
  {
   "cell_type": "code",
   "execution_count": 22,
   "metadata": {},
   "outputs": [],
   "source": [
    "#Transformation de la variable à expliquer en variable discrète (utilisation de la médiane comme seuil)\n",
    "y = Binarizer(threshold= 7.03).fit_transform(y)  # Nos classes sont donc équilibrées"
   ]
  },
  {
   "cell_type": "code",
   "execution_count": 23,
   "metadata": {},
   "outputs": [],
   "source": [
    "#Ajout de la variable binaire au dataframe\n",
    "data['y'] = y"
   ]
  },
  {
   "cell_type": "code",
   "execution_count": 24,
   "metadata": {},
   "outputs": [
    {
     "data": {
      "text/html": [
       "<div>\n",
       "<style scoped>\n",
       "    .dataframe tbody tr th:only-of-type {\n",
       "        vertical-align: middle;\n",
       "    }\n",
       "\n",
       "    .dataframe tbody tr th {\n",
       "        vertical-align: top;\n",
       "    }\n",
       "\n",
       "    .dataframe thead th {\n",
       "        text-align: right;\n",
       "    }\n",
       "</style>\n",
       "<table border=\"1\" class=\"dataframe\">\n",
       "  <thead>\n",
       "    <tr style=\"text-align: right;\">\n",
       "      <th></th>\n",
       "      <th>breath_id</th>\n",
       "      <th>R</th>\n",
       "      <th>C</th>\n",
       "      <th>time_step</th>\n",
       "      <th>u_in</th>\n",
       "      <th>u_out</th>\n",
       "      <th>pressure</th>\n",
       "      <th>y</th>\n",
       "    </tr>\n",
       "  </thead>\n",
       "  <tbody>\n",
       "    <tr>\n",
       "      <td>0</td>\n",
       "      <td>1</td>\n",
       "      <td>20</td>\n",
       "      <td>50</td>\n",
       "      <td>0.000000</td>\n",
       "      <td>0.083334</td>\n",
       "      <td>0</td>\n",
       "      <td>5.837492</td>\n",
       "      <td>0.0</td>\n",
       "    </tr>\n",
       "    <tr>\n",
       "      <td>1</td>\n",
       "      <td>1</td>\n",
       "      <td>20</td>\n",
       "      <td>50</td>\n",
       "      <td>0.033652</td>\n",
       "      <td>18.383041</td>\n",
       "      <td>0</td>\n",
       "      <td>5.907794</td>\n",
       "      <td>0.0</td>\n",
       "    </tr>\n",
       "    <tr>\n",
       "      <td>2</td>\n",
       "      <td>1</td>\n",
       "      <td>20</td>\n",
       "      <td>50</td>\n",
       "      <td>0.067514</td>\n",
       "      <td>22.509278</td>\n",
       "      <td>0</td>\n",
       "      <td>7.876254</td>\n",
       "      <td>1.0</td>\n",
       "    </tr>\n",
       "    <tr>\n",
       "      <td>3</td>\n",
       "      <td>1</td>\n",
       "      <td>20</td>\n",
       "      <td>50</td>\n",
       "      <td>0.101542</td>\n",
       "      <td>22.808822</td>\n",
       "      <td>0</td>\n",
       "      <td>11.742872</td>\n",
       "      <td>1.0</td>\n",
       "    </tr>\n",
       "    <tr>\n",
       "      <td>4</td>\n",
       "      <td>1</td>\n",
       "      <td>20</td>\n",
       "      <td>50</td>\n",
       "      <td>0.135756</td>\n",
       "      <td>25.355850</td>\n",
       "      <td>0</td>\n",
       "      <td>12.234987</td>\n",
       "      <td>1.0</td>\n",
       "    </tr>\n",
       "  </tbody>\n",
       "</table>\n",
       "</div>"
      ],
      "text/plain": [
       "   breath_id   R   C  time_step       u_in  u_out   pressure    y\n",
       "0          1  20  50   0.000000   0.083334      0   5.837492  0.0\n",
       "1          1  20  50   0.033652  18.383041      0   5.907794  0.0\n",
       "2          1  20  50   0.067514  22.509278      0   7.876254  1.0\n",
       "3          1  20  50   0.101542  22.808822      0  11.742872  1.0\n",
       "4          1  20  50   0.135756  25.355850      0  12.234987  1.0"
      ]
     },
     "execution_count": 24,
     "metadata": {},
     "output_type": "execute_result"
    }
   ],
   "source": [
    "data.head()"
   ]
  },
  {
   "cell_type": "code",
   "execution_count": 25,
   "metadata": {},
   "outputs": [
    {
     "data": {
      "text/plain": [
       "(6036000, 8)"
      ]
     },
     "execution_count": 25,
     "metadata": {},
     "output_type": "execute_result"
    }
   ],
   "source": [
    "data.shape"
   ]
  },
  {
   "cell_type": "markdown",
   "metadata": {},
   "source": [
    "#### Création de sous ensemble pour la variable pressure"
   ]
  },
  {
   "cell_type": "code",
   "execution_count": 26,
   "metadata": {},
   "outputs": [],
   "source": [
    "data_inf = data[data['pressure'] <= 7.03]\n",
    "data_sup = data[data['pressure'] > 7.03]"
   ]
  },
  {
   "cell_type": "markdown",
   "metadata": {},
   "source": [
    "#### Représentations graphiques"
   ]
  },
  {
   "cell_type": "code",
   "execution_count": 27,
   "metadata": {},
   "outputs": [
    {
     "data": {
      "text/plain": [
       "<matplotlib.legend.Legend at 0x7f7cc2bee490>"
      ]
     },
     "execution_count": 27,
     "metadata": {},
     "output_type": "execute_result"
    },
    {
     "data": {
      "image/png": "[encoded data removed]",
      "text/plain": [
       "<Figure size 432x288 with 1 Axes>"
      ]
     },
     "metadata": {
      "needs_background": "light"
     },
     "output_type": "display_data"
    },
    {
     "data": {
      "image/png": "[encoded data removed]",
      "text/plain": [
       "<Figure size 432x288 with 1 Axes>"
      ]
     },
     "metadata": {
      "needs_background": "light"
     },
     "output_type": "display_data"
    }
   ],
   "source": [
    "plt.figure()\n",
    "sns.distplot(data_inf['u_in'], label = 'inférieur')\n",
    "sns.distplot(data_sup['u_in'], label = 'supérieur')\n",
    "plt.legend()\n",
    "plt.figure()\n",
    "sns.distplot(data_inf['time_step'], label = 'inférieur')\n",
    "sns.distplot(data_sup['time_step'], label = 'supérieur')\n",
    "plt.legend()"
   ]
  },
  {
   "cell_type": "code",
   "execution_count": 29,
   "metadata": {},
   "outputs": [
    {
     "data": {
      "image/png": "[encoded data removed]",
      "text/plain": [
       "<Figure size 432x288 with 1 Axes>"
      ]
     },
     "metadata": {
      "needs_background": "light"
     },
     "output_type": "display_data"
    },
    {
     "data": {
      "image/png": "[encoded data removed]",
      "text/plain": [
       "<Figure size 432x288 with 1 Axes>"
      ]
     },
     "metadata": {
      "needs_background": "light"
     },
     "output_type": "display_data"
    },
    {
     "data": {
      "image/png": "[encoded data removed]",
      "text/plain": [
       "<Figure size 432x288 with 1 Axes>"
      ]
     },
     "metadata": {
      "needs_background": "light"
     },
     "output_type": "display_data"
    }
   ],
   "source": [
    "#Ajout de la variable binaire à data_int\n",
    "data_int['y'] = y\n",
    "\n",
    "for col in data_int.select_dtypes('int64'):\n",
    "    plt.figure()\n",
    "    sns.countplot(x=col, hue='y', data= data_int)"
   ]
  },
  {
   "cell_type": "markdown",
   "metadata": {},
   "source": [
    "# Partitionnement des données"
   ]
  },
  {
   "cell_type": "markdown",
   "metadata": {},
   "source": [
    "#### Création des jeux d'entrainement et de test"
   ]
  },
  {
   "cell_type": "code",
   "execution_count": 49,
   "metadata": {},
   "outputs": [],
   "source": [
    "# On utilise un échantillon de 2000 observations pour nos modélisations\n",
    "data = pd.read_csv(\"/Users/cecilemocher/Documents/M2/SVM-ANN/ProjetSVM/ventilator-pressure-prediction/train.csv\", sep=\",\", nrows=2000) \n",
    "#nrows on ne garde que 2000 lignes"
   ]
  },
  {
   "cell_type": "code",
   "execution_count": 50,
   "metadata": {},
   "outputs": [],
   "source": [
    "# Suppresion de la colonne id qui ne nous sera pas utile\n",
    "data = data.drop(columns=['id'])"
   ]
  },
  {
   "cell_type": "code",
   "execution_count": 51,
   "metadata": {},
   "outputs": [],
   "source": [
    "y = np.asarray(data.pressure)\n",
    "X = np.array(data.drop(columns = [\"pressure\"]))\n",
    "y = y.reshape(-1,1)"
   ]
  },
  {
   "cell_type": "code",
   "execution_count": 52,
   "metadata": {},
   "outputs": [],
   "source": [
    "#Transformation de la variable à expliquer en variable discrète (utilisation de la médiane comme seuil)\n",
    "y = Binarizer(threshold= 7.03).fit_transform(y)  # Nos classes sont donc équilibrées"
   ]
  },
  {
   "cell_type": "code",
   "execution_count": 53,
   "metadata": {},
   "outputs": [
    {
     "data": {
      "text/html": [
       "<div>\n",
       "<style scoped>\n",
       "    .dataframe tbody tr th:only-of-type {\n",
       "        vertical-align: middle;\n",
       "    }\n",
       "\n",
       "    .dataframe tbody tr th {\n",
       "        vertical-align: top;\n",
       "    }\n",
       "\n",
       "    .dataframe thead th {\n",
       "        text-align: right;\n",
       "    }\n",
       "</style>\n",
       "<table border=\"1\" class=\"dataframe\">\n",
       "  <thead>\n",
       "    <tr style=\"text-align: right;\">\n",
       "      <th></th>\n",
       "      <th>breath_id</th>\n",
       "      <th>R</th>\n",
       "      <th>C</th>\n",
       "      <th>time_step</th>\n",
       "      <th>u_in</th>\n",
       "      <th>u_out</th>\n",
       "      <th>pressure</th>\n",
       "      <th>y</th>\n",
       "    </tr>\n",
       "  </thead>\n",
       "  <tbody>\n",
       "    <tr>\n",
       "      <td>0</td>\n",
       "      <td>1</td>\n",
       "      <td>20</td>\n",
       "      <td>50</td>\n",
       "      <td>0.000000</td>\n",
       "      <td>0.083334</td>\n",
       "      <td>0</td>\n",
       "      <td>5.837492</td>\n",
       "      <td>0.0</td>\n",
       "    </tr>\n",
       "    <tr>\n",
       "      <td>1</td>\n",
       "      <td>1</td>\n",
       "      <td>20</td>\n",
       "      <td>50</td>\n",
       "      <td>0.033652</td>\n",
       "      <td>18.383041</td>\n",
       "      <td>0</td>\n",
       "      <td>5.907794</td>\n",
       "      <td>0.0</td>\n",
       "    </tr>\n",
       "    <tr>\n",
       "      <td>2</td>\n",
       "      <td>1</td>\n",
       "      <td>20</td>\n",
       "      <td>50</td>\n",
       "      <td>0.067514</td>\n",
       "      <td>22.509278</td>\n",
       "      <td>0</td>\n",
       "      <td>7.876254</td>\n",
       "      <td>1.0</td>\n",
       "    </tr>\n",
       "    <tr>\n",
       "      <td>3</td>\n",
       "      <td>1</td>\n",
       "      <td>20</td>\n",
       "      <td>50</td>\n",
       "      <td>0.101542</td>\n",
       "      <td>22.808822</td>\n",
       "      <td>0</td>\n",
       "      <td>11.742872</td>\n",
       "      <td>1.0</td>\n",
       "    </tr>\n",
       "    <tr>\n",
       "      <td>4</td>\n",
       "      <td>1</td>\n",
       "      <td>20</td>\n",
       "      <td>50</td>\n",
       "      <td>0.135756</td>\n",
       "      <td>25.355850</td>\n",
       "      <td>0</td>\n",
       "      <td>12.234987</td>\n",
       "      <td>1.0</td>\n",
       "    </tr>\n",
       "  </tbody>\n",
       "</table>\n",
       "</div>"
      ],
      "text/plain": [
       "   breath_id   R   C  time_step       u_in  u_out   pressure    y\n",
       "0          1  20  50   0.000000   0.083334      0   5.837492  0.0\n",
       "1          1  20  50   0.033652  18.383041      0   5.907794  0.0\n",
       "2          1  20  50   0.067514  22.509278      0   7.876254  1.0\n",
       "3          1  20  50   0.101542  22.808822      0  11.742872  1.0\n",
       "4          1  20  50   0.135756  25.355850      0  12.234987  1.0"
      ]
     },
     "execution_count": 53,
     "metadata": {},
     "output_type": "execute_result"
    }
   ],
   "source": [
    "#Ajout de la variable binaire au dataframe\n",
    "data['y'] = y\n",
    "data.head()"
   ]
  },
  {
   "cell_type": "code",
   "execution_count": 36,
   "metadata": {},
   "outputs": [],
   "source": [
    "X_train, X_test, y_train, y_test = train_test_split(X,y, test_size =0.2, stratify=y, random_state =56)\n",
    "# ajouter stratify=y pour une variable quali pour conserver les répartitions du dataset\n",
    "#random_state comme seed fixe nos train et test data => n'importe quel nombre\n",
    "#sinon dès qu'on run train_test_split on a des data diff"
   ]
  },
  {
   "cell_type": "code",
   "execution_count": 37,
   "metadata": {},
   "outputs": [],
   "source": [
    "# Passage en forme matricielle\n",
    "X_train=np.asarray(X_train)\n",
    "y_train=np.asarray(y_train)\n",
    "y_test=np.asarray(y_test)\n",
    "X_test=np.asarray(X_test)"
   ]
  },
  {
   "cell_type": "code",
   "execution_count": 38,
   "metadata": {},
   "outputs": [],
   "source": [
    "# KFold\n",
    "folds = StratifiedKFold(n_splits=10, shuffle=True, random_state=586)"
   ]
  },
  {
   "cell_type": "markdown",
   "metadata": {},
   "source": [
    "# Régression logistique"
   ]
  },
  {
   "cell_type": "code",
   "execution_count": 39,
   "metadata": {
    "scrolled": false
   },
   "outputs": [
    {
     "name": "stdout",
     "output_type": "stream",
     "text": [
      "Accuracy: 0.8425\n",
      "AUC: 0.890406162464986\n",
      "Confusion Matrix: [[177  19]\n",
      " [ 44 160]]\n",
      "              precision    recall  f1-score   support\n",
      "\n",
      "         0.0       0.80      0.90      0.85       196\n",
      "         1.0       0.89      0.78      0.84       204\n",
      "\n",
      "    accuracy                           0.84       400\n",
      "   macro avg       0.85      0.84      0.84       400\n",
      "weighted avg       0.85      0.84      0.84       400\n",
      "\n",
      "Tuned Model Parameters: {'logreg__C': 31.622776601683793}\n"
     ]
    }
   ],
   "source": [
    "# Setup de la pipeline\n",
    "steps = [('scaler', StandardScaler()), #Standardisation des données\n",
    "         ('logreg', LogisticRegression())]\n",
    "\n",
    "pipeline = Pipeline(steps)\n",
    "\n",
    "# Spécification de l'hyperparamètre\n",
    "c_space = np.logspace(-5, 8, 15)\n",
    "parameters = {'logreg__C':c_space}\n",
    "\n",
    "# Recherche des meilleurs hyperparamètres avec GridSearchCV\n",
    "logreg_cv = GridSearchCV(pipeline, parameters, cv=folds)\n",
    "\n",
    "# Fit du modèle de training\n",
    "logreg_cv.fit(X_train, y_train)\n",
    "\n",
    "# Prediction sur le test set\n",
    "y_predlog = logreg_cv.predict(X_test)\n",
    "y_pred_prob = logreg_cv.predict_proba(X_test)[:,1]\n",
    "\n",
    "# Informations sur le modèle standardisé\n",
    "print(\"Accuracy: {}\".format(logreg_cv.score(X_test, y_test)))  #R²\n",
    "print(\"AUC: {}\".format(roc_auc_score(y_test, y_pred_prob)))\n",
    "print(\"Confusion Matrix: {}\".format(confusion_matrix(y_test,y_predlog)))\n",
    "print(classification_report(y_test, y_predlog)) # tableau avec recall et précision \n",
    "#on a idéntifier 80% des cas positif (recall de 1 = 0.8)\n",
    "print(\"Tuned Model Parameters: {}\".format(logreg_cv.best_params_)) #meilleurs paramètres     "
   ]
  },
  {
   "cell_type": "code",
   "execution_count": 40,
   "metadata": {},
   "outputs": [
    {
     "data": {
      "image/png": "[encoded data removed]",
      "text/plain": [
       "<Figure size 432x288 with 1 Axes>"
      ]
     },
     "metadata": {
      "needs_background": "light"
     },
     "output_type": "display_data"
    }
   ],
   "source": [
    "fpr, tpr, thresholds = roc_curve(y_test, y_pred_prob)\n",
    "\n",
    "# Plot de la courbe de ROC\n",
    "plt.plot([0, 1], [0, 1], 'k--')\n",
    "plt.plot(fpr, tpr, label='Logistic Regression')\n",
    "plt.xlabel('False Positive Rate')\n",
    "plt.ylabel('True Positive Rate')\n",
    "plt.title('Logistic Regression ROC Curve')\n",
    "plt.show()"
   ]
  },
  {
   "cell_type": "code",
   "execution_count": 41,
   "metadata": {},
   "outputs": [
    {
     "data": {
      "text/plain": [
       "<matplotlib.legend.Legend at 0x7f7cc3ffd510>"
      ]
     },
     "execution_count": 41,
     "metadata": {},
     "output_type": "execute_result"
    },
    {
     "data": {
      "image/png": "[encoded data removed]",
      "text/plain": [
       "<Figure size 864x576 with 1 Axes>"
      ]
     },
     "metadata": {
      "needs_background": "light"
     },
     "output_type": "display_data"
    }
   ],
   "source": [
    "#Learning curve\n",
    "N, train_score, val_score = learning_curve(logreg_cv, X_train, y_train, cv=5, scoring='f1', train_sizes=np.linspace(0.1,1,10))\n",
    "\n",
    "plt.figure(figsize=(12,8))\n",
    "plt.plot(N,train_score.mean(axis=1), label='train score')\n",
    "plt.plot(N,val_score.mean(axis=1), label='validation score')\n",
    "plt.legend()"
   ]
  },
  {
   "cell_type": "markdown",
   "metadata": {},
   "source": [
    "# SVM"
   ]
  },
  {
   "cell_type": "markdown",
   "metadata": {},
   "source": [
    "### Kernel = 'linear'"
   ]
  },
  {
   "cell_type": "code",
   "execution_count": 42,
   "metadata": {},
   "outputs": [
    {
     "name": "stdout",
     "output_type": "stream",
     "text": [
      "Accuracy: 0.8075\n",
      "Confusion Matrix: [[183  13]\n",
      " [ 64 140]]\n",
      "              precision    recall  f1-score   support\n",
      "\n",
      "         0.0       0.74      0.93      0.83       196\n",
      "         1.0       0.92      0.69      0.78       204\n",
      "\n",
      "    accuracy                           0.81       400\n",
      "   macro avg       0.83      0.81      0.81       400\n",
      "weighted avg       0.83      0.81      0.80       400\n",
      "\n",
      "Tuned Model Parameters: {'SVM__C': 1}\n"
     ]
    }
   ],
   "source": [
    "# Setup de la pipeline\n",
    "steps = [('scaler', StandardScaler()),\n",
    "         ('SVM', SVC(kernel='linear'))]\n",
    "\n",
    "pipeline = Pipeline(steps)\n",
    "\n",
    "# Spécification des hyperparamètres\n",
    "parameters = {'SVM__C':[1, 10, 100]}\n",
    "\n",
    "# Recherche des meilleurs hyperparapmètres avec GridSearchCV\n",
    "svm_cv = GridSearchCV(pipeline, parameters, cv=folds)\n",
    "\n",
    "# Fit du modèle de training\n",
    "svm_cv.fit(X_train, y_train)\n",
    "\n",
    "# Prediction sur le test set\n",
    "y_preds = svm_cv.predict(X_test)\n",
    "\n",
    "# Informations sur le modèle standardisé\n",
    "print(\"Accuracy: {}\".format(svm_cv.score(X_test, y_test)))  #R²\n",
    "print(\"Confusion Matrix: {}\".format(confusion_matrix(y_test,y_preds)))\n",
    "print(classification_report(y_test, y_preds)) # tableau avec recall et précision\n",
    "print(\"Tuned Model Parameters: {}\".format(svm_cv.best_params_)) #meilleurs paramètres"
   ]
  },
  {
   "cell_type": "code",
   "execution_count": 43,
   "metadata": {},
   "outputs": [
    {
     "data": {
      "text/plain": [
       "<matplotlib.legend.Legend at 0x7f7cc45b54d0>"
      ]
     },
     "execution_count": 43,
     "metadata": {},
     "output_type": "execute_result"
    },
    {
     "data": {
      "image/png": "[encoded data removed]",
      "text/plain": [
       "<Figure size 864x576 with 1 Axes>"
      ]
     },
     "metadata": {
      "needs_background": "light"
     },
     "output_type": "display_data"
    }
   ],
   "source": [
    "#Learning curve\n",
    "N, train_score, val_score = learning_curve(svm_cv, X_train, y_train, cv=5, scoring='f1', train_sizes=np.linspace(0.1,1,10))\n",
    "\n",
    "plt.figure(figsize=(12,8))\n",
    "plt.plot(N,train_score.mean(axis=1), label='train score')\n",
    "plt.plot(N,val_score.mean(axis=1), label='validation score')\n",
    "plt.legend()"
   ]
  },
  {
   "cell_type": "markdown",
   "metadata": {},
   "source": [
    "### Kernel = 'rbf'"
   ]
  },
  {
   "cell_type": "code",
   "execution_count": 44,
   "metadata": {
    "scrolled": false
   },
   "outputs": [
    {
     "name": "stdout",
     "output_type": "stream",
     "text": [
      "Accuracy: 0.9075\n",
      "Confusion Matrix: [[184  12]\n",
      " [ 25 179]]\n",
      "              precision    recall  f1-score   support\n",
      "\n",
      "         0.0       0.88      0.94      0.91       196\n",
      "         1.0       0.94      0.88      0.91       204\n",
      "\n",
      "    accuracy                           0.91       400\n",
      "   macro avg       0.91      0.91      0.91       400\n",
      "weighted avg       0.91      0.91      0.91       400\n",
      "\n",
      "Tuned Model Parameters: {'SVM__C': 100, 'SVM__gamma': 0.1}\n"
     ]
    }
   ],
   "source": [
    "# Setup de la pipeline\n",
    "steps = [('scaler', StandardScaler()),\n",
    "         ('SVM', SVC())]\n",
    "\n",
    "pipeline = Pipeline(steps)\n",
    "\n",
    "# Spécification des hyperparamètres\n",
    "parameters = {'SVM__C':[1, 10, 100],\n",
    "              'SVM__gamma':[0.1, 0.01, 0.001, 0.0001]}\n",
    "\n",
    "# Recherche des meilleurs hyperparapmètres avec GridSearchCV\n",
    "svm2_cv = GridSearchCV(pipeline, parameters, cv=folds)\n",
    "\n",
    "# Fit du modèle de training\n",
    "svm2_cv.fit(X_train, y_train)\n",
    "\n",
    "# Prediction sur le test set\n",
    "y_preds2 = svm2_cv.predict(X_test)\n",
    "\n",
    "# Informations sur le modèle standardisé\n",
    "print(\"Accuracy: {}\".format(svm2_cv.score(X_test, y_test)))  #R²\n",
    "print(\"Confusion Matrix: {}\".format(confusion_matrix(y_test,y_preds2)))\n",
    "print(classification_report(y_test, y_preds2)) # tableau avec recall et précision\n",
    "print(\"Tuned Model Parameters: {}\".format(svm2_cv.best_params_)) #meilleurs paramètres"
   ]
  },
  {
   "cell_type": "code",
   "execution_count": 45,
   "metadata": {
    "scrolled": false
   },
   "outputs": [
    {
     "data": {
      "text/plain": [
       "<matplotlib.legend.Legend at 0x7f7cc4768150>"
      ]
     },
     "execution_count": 45,
     "metadata": {},
     "output_type": "execute_result"
    },
    {
     "data": {
      "image/png": "[encoded data removed]",
      "text/plain": [
       "<Figure size 864x576 with 1 Axes>"
      ]
     },
     "metadata": {
      "needs_background": "light"
     },
     "output_type": "display_data"
    }
   ],
   "source": [
    "#Learning curve\n",
    "N, train_score, val_score = learning_curve(svm2_cv, X_train, y_train, cv=5, scoring='f1', train_sizes=np.linspace(0.1,1,10))\n",
    "\n",
    "plt.figure(figsize=(12,8))\n",
    "plt.plot(N,train_score.mean(axis=1), label='train score')\n",
    "plt.plot(N,val_score.mean(axis=1), label='validation score')\n",
    "plt.legend()"
   ]
  },
  {
   "cell_type": "markdown",
   "metadata": {},
   "source": [
    "# ANN"
   ]
  },
  {
   "cell_type": "markdown",
   "metadata": {},
   "source": [
    "### Optimisation de batch_size et epochs"
   ]
  },
  {
   "cell_type": "code",
   "execution_count": 54,
   "metadata": {},
   "outputs": [
    {
     "data": {
      "text/html": [
       "<div>\n",
       "<style scoped>\n",
       "    .dataframe tbody tr th:only-of-type {\n",
       "        vertical-align: middle;\n",
       "    }\n",
       "\n",
       "    .dataframe tbody tr th {\n",
       "        vertical-align: top;\n",
       "    }\n",
       "\n",
       "    .dataframe thead th {\n",
       "        text-align: right;\n",
       "    }\n",
       "</style>\n",
       "<table border=\"1\" class=\"dataframe\">\n",
       "  <thead>\n",
       "    <tr style=\"text-align: right;\">\n",
       "      <th></th>\n",
       "      <th>breath_id</th>\n",
       "      <th>R</th>\n",
       "      <th>C</th>\n",
       "      <th>time_step</th>\n",
       "      <th>u_in</th>\n",
       "      <th>u_out</th>\n",
       "      <th>pressure</th>\n",
       "      <th>y</th>\n",
       "    </tr>\n",
       "  </thead>\n",
       "  <tbody>\n",
       "    <tr>\n",
       "      <td>0</td>\n",
       "      <td>1</td>\n",
       "      <td>20</td>\n",
       "      <td>50</td>\n",
       "      <td>0.000000</td>\n",
       "      <td>0.083334</td>\n",
       "      <td>0</td>\n",
       "      <td>5.837492</td>\n",
       "      <td>0.0</td>\n",
       "    </tr>\n",
       "    <tr>\n",
       "      <td>1</td>\n",
       "      <td>1</td>\n",
       "      <td>20</td>\n",
       "      <td>50</td>\n",
       "      <td>0.033652</td>\n",
       "      <td>18.383041</td>\n",
       "      <td>0</td>\n",
       "      <td>5.907794</td>\n",
       "      <td>0.0</td>\n",
       "    </tr>\n",
       "    <tr>\n",
       "      <td>2</td>\n",
       "      <td>1</td>\n",
       "      <td>20</td>\n",
       "      <td>50</td>\n",
       "      <td>0.067514</td>\n",
       "      <td>22.509278</td>\n",
       "      <td>0</td>\n",
       "      <td>7.876254</td>\n",
       "      <td>1.0</td>\n",
       "    </tr>\n",
       "    <tr>\n",
       "      <td>3</td>\n",
       "      <td>1</td>\n",
       "      <td>20</td>\n",
       "      <td>50</td>\n",
       "      <td>0.101542</td>\n",
       "      <td>22.808822</td>\n",
       "      <td>0</td>\n",
       "      <td>11.742872</td>\n",
       "      <td>1.0</td>\n",
       "    </tr>\n",
       "    <tr>\n",
       "      <td>4</td>\n",
       "      <td>1</td>\n",
       "      <td>20</td>\n",
       "      <td>50</td>\n",
       "      <td>0.135756</td>\n",
       "      <td>25.355850</td>\n",
       "      <td>0</td>\n",
       "      <td>12.234987</td>\n",
       "      <td>1.0</td>\n",
       "    </tr>\n",
       "  </tbody>\n",
       "</table>\n",
       "</div>"
      ],
      "text/plain": [
       "   breath_id   R   C  time_step       u_in  u_out   pressure    y\n",
       "0          1  20  50   0.000000   0.083334      0   5.837492  0.0\n",
       "1          1  20  50   0.033652  18.383041      0   5.907794  0.0\n",
       "2          1  20  50   0.067514  22.509278      0   7.876254  1.0\n",
       "3          1  20  50   0.101542  22.808822      0  11.742872  1.0\n",
       "4          1  20  50   0.135756  25.355850      0  12.234987  1.0"
      ]
     },
     "execution_count": 54,
     "metadata": {},
     "output_type": "execute_result"
    }
   ],
   "source": [
    "data.head()"
   ]
  },
  {
   "cell_type": "code",
   "execution_count": 55,
   "metadata": {},
   "outputs": [],
   "source": [
    "#Réencodage des variables\n",
    "X = data.iloc[:,0:5]\n",
    "y = data.iloc[:,7]"
   ]
  },
  {
   "cell_type": "code",
   "execution_count": 56,
   "metadata": {},
   "outputs": [],
   "source": [
    "# Création du jeu d'apprentissage et de test\n",
    "X_train, X_test, y_train, y_test = train_test_split(X,y, test_size =0.2, stratify=y, random_state =56)"
   ]
  },
  {
   "cell_type": "code",
   "execution_count": 57,
   "metadata": {},
   "outputs": [],
   "source": [
    "#Fonction créant un modèle de réseaux de neurones\n",
    "def create_model ():\n",
    "    my_model = Sequential()\n",
    "    my_model.add(Dense(10, input_dim = 5, activation='relu'))\n",
    "    my_model.add(Dense(1,activation='sigmoid'))\n",
    "    \n",
    "    my_model.compile(optimizer='adam', loss='binary_crossentropy', metrics = ['accuracy'])\n",
    "    return my_model"
   ]
  },
  {
   "cell_type": "code",
   "execution_count": 58,
   "metadata": {},
   "outputs": [],
   "source": [
    "#Création du modèle\n",
    "model = KerasClassifier(build_fn=create_model)"
   ]
  },
  {
   "cell_type": "code",
   "execution_count": 59,
   "metadata": {},
   "outputs": [],
   "source": [
    "# Paramètres à tester\n",
    "batchSize = [5, 10, 20, 40]\n",
    "epochs = [30, 50, 100, 150]"
   ]
  },
  {
   "cell_type": "code",
   "execution_count": 60,
   "metadata": {},
   "outputs": [
    {
     "name": "stdout",
     "output_type": "stream",
     "text": [
      "Epoch 1/150\n",
      "160/160 [==============================] - 1s 1ms/step - loss: 3.0821 - accuracy: 0.4481\n",
      "Epoch 2/150\n",
      "160/160 [==============================] - 0s 909us/step - loss: 1.0315 - accuracy: 0.5138\n",
      "Epoch 3/150\n",
      "160/160 [==============================] - 0s 798us/step - loss: 0.7120 - accuracy: 0.6019\n",
      "Epoch 4/150\n",
      "160/160 [==============================] - 0s 2ms/step - loss: 0.6132 - accuracy: 0.6550\n",
      "Epoch 5/150\n",
      "160/160 [==============================] - 0s 1ms/step - loss: 0.5633 - accuracy: 0.7075\n",
      "Epoch 6/150\n",
      "160/160 [==============================] - 0s 1ms/step - loss: 0.5362 - accuracy: 0.7325\n",
      "Epoch 7/150\n",
      "160/160 [==============================] - 0s 723us/step - loss: 0.5184 - accuracy: 0.7369\n",
      "Epoch 8/150\n",
      "160/160 [==============================] - 0s 811us/step - loss: 0.5053 - accuracy: 0.7500\n",
      "Epoch 9/150\n",
      "160/160 [==============================] - 0s 804us/step - loss: 0.4944 - accuracy: 0.7594\n",
      "Epoch 10/150\n",
      "160/160 [==============================] - 0s 767us/step - loss: 0.4872 - accuracy: 0.7638\n",
      "Epoch 11/150\n",
      "160/160 [==============================] - 0s 726us/step - loss: 0.4792 - accuracy: 0.7663\n",
      "Epoch 12/150\n",
      "160/160 [==============================] - 0s 748us/step - loss: 0.4734 - accuracy: 0.7631\n",
      "Epoch 13/150\n",
      "160/160 [==============================] - 0s 725us/step - loss: 0.4658 - accuracy: 0.7575\n",
      "Epoch 14/150\n",
      "160/160 [==============================] - 0s 763us/step - loss: 0.4599 - accuracy: 0.7638\n",
      "Epoch 15/150\n",
      "160/160 [==============================] - 0s 760us/step - loss: 0.4560 - accuracy: 0.7663\n",
      "Epoch 16/150\n",
      "160/160 [==============================] - 0s 737us/step - loss: 0.4575 - accuracy: 0.7625\n",
      "Epoch 17/150\n",
      "160/160 [==============================] - 0s 847us/step - loss: 0.4524 - accuracy: 0.7700\n",
      "Epoch 18/150\n",
      "160/160 [==============================] - 0s 1ms/step - loss: 0.4484 - accuracy: 0.7706\n",
      "Epoch 19/150\n",
      "160/160 [==============================] - 0s 1ms/step - loss: 0.4474 - accuracy: 0.7713\n",
      "Epoch 20/150\n",
      "160/160 [==============================] - 0s 1ms/step - loss: 0.4440 - accuracy: 0.7694\n",
      "Epoch 21/150\n",
      "160/160 [==============================] - 0s 744us/step - loss: 0.4421 - accuracy: 0.7713\n",
      "Epoch 22/150\n",
      "160/160 [==============================] - 0s 1ms/step - loss: 0.4441 - accuracy: 0.7750\n",
      "Epoch 23/150\n",
      "160/160 [==============================] - 0s 1ms/step - loss: 0.4393 - accuracy: 0.7744\n",
      "Epoch 24/150\n",
      "160/160 [==============================] - 0s 788us/step - loss: 0.4355 - accuracy: 0.7781\n",
      "Epoch 25/150\n",
      "160/160 [==============================] - 0s 1ms/step - loss: 0.4335 - accuracy: 0.7794\n",
      "Epoch 26/150\n",
      "160/160 [==============================] - 0s 1ms/step - loss: 0.4376 - accuracy: 0.7812\n",
      "Epoch 27/150\n",
      "160/160 [==============================] - 0s 760us/step - loss: 0.4322 - accuracy: 0.7862\n",
      "Epoch 28/150\n",
      "160/160 [==============================] - 0s 787us/step - loss: 0.4335 - accuracy: 0.7887\n",
      "Epoch 29/150\n",
      "160/160 [==============================] - 0s 746us/step - loss: 0.4308 - accuracy: 0.7825\n",
      "Epoch 30/150\n",
      "160/160 [==============================] - 0s 772us/step - loss: 0.4348 - accuracy: 0.7850\n",
      "Epoch 31/150\n",
      "160/160 [==============================] - 0s 747us/step - loss: 0.4305 - accuracy: 0.7925\n",
      "Epoch 32/150\n",
      "160/160 [==============================] - 0s 780us/step - loss: 0.4297 - accuracy: 0.7856\n",
      "Epoch 33/150\n",
      "160/160 [==============================] - 0s 742us/step - loss: 0.4314 - accuracy: 0.7919\n",
      "Epoch 34/150\n",
      "160/160 [==============================] - 0s 789us/step - loss: 0.4325 - accuracy: 0.7906\n",
      "Epoch 35/150\n",
      "160/160 [==============================] - 0s 738us/step - loss: 0.4303 - accuracy: 0.7987\n",
      "Epoch 36/150\n",
      "160/160 [==============================] - 0s 808us/step - loss: 0.4275 - accuracy: 0.7919\n",
      "Epoch 37/150\n",
      "160/160 [==============================] - 0s 757us/step - loss: 0.4262 - accuracy: 0.7944\n",
      "Epoch 38/150\n",
      "160/160 [==============================] - 0s 840us/step - loss: 0.4270 - accuracy: 0.7912\n",
      "Epoch 39/150\n",
      "160/160 [==============================] - 0s 786us/step - loss: 0.4268 - accuracy: 0.7937\n",
      "Epoch 40/150\n",
      "160/160 [==============================] - 0s 791us/step - loss: 0.4264 - accuracy: 0.7950\n",
      "Epoch 41/150\n",
      "160/160 [==============================] - 0s 803us/step - loss: 0.4233 - accuracy: 0.7950\n",
      "Epoch 42/150\n",
      "160/160 [==============================] - 0s 778us/step - loss: 0.4232 - accuracy: 0.7994\n",
      "Epoch 43/150\n",
      "160/160 [==============================] - 0s 798us/step - loss: 0.4236 - accuracy: 0.7956\n",
      "Epoch 44/150\n",
      "160/160 [==============================] - 0s 773us/step - loss: 0.4227 - accuracy: 0.7987\n",
      "Epoch 45/150\n",
      "160/160 [==============================] - 0s 842us/step - loss: 0.4247 - accuracy: 0.7869\n",
      "Epoch 46/150\n",
      "160/160 [==============================] - 0s 819us/step - loss: 0.4210 - accuracy: 0.7969\n",
      "Epoch 47/150\n",
      "160/160 [==============================] - 0s 818us/step - loss: 0.4220 - accuracy: 0.7975\n",
      "Epoch 48/150\n",
      "160/160 [==============================] - 0s 795us/step - loss: 0.4213 - accuracy: 0.7981\n",
      "Epoch 49/150\n",
      "160/160 [==============================] - 0s 811us/step - loss: 0.4185 - accuracy: 0.7925\n",
      "Epoch 50/150\n",
      "160/160 [==============================] - 0s 878us/step - loss: 0.4169 - accuracy: 0.8150\n",
      "Epoch 51/150\n",
      "160/160 [==============================] - 0s 886us/step - loss: 0.4154 - accuracy: 0.8044\n",
      "Epoch 52/150\n",
      "160/160 [==============================] - 0s 828us/step - loss: 0.4173 - accuracy: 0.8181\n",
      "Epoch 53/150\n",
      "160/160 [==============================] - 0s 834us/step - loss: 0.4120 - accuracy: 0.8087\n",
      "Epoch 54/150\n",
      "160/160 [==============================] - 0s 769us/step - loss: 0.4125 - accuracy: 0.8194\n",
      "Epoch 55/150\n",
      "160/160 [==============================] - 0s 778us/step - loss: 0.4132 - accuracy: 0.8175\n",
      "Epoch 56/150\n",
      "160/160 [==============================] - 0s 787us/step - loss: 0.4065 - accuracy: 0.8188\n",
      "Epoch 57/150\n",
      "160/160 [==============================] - 0s 785us/step - loss: 0.4079 - accuracy: 0.8225\n",
      "Epoch 58/150\n",
      "160/160 [==============================] - 0s 775us/step - loss: 0.4053 - accuracy: 0.8163\n",
      "Epoch 59/150\n",
      "160/160 [==============================] - 0s 808us/step - loss: 0.4056 - accuracy: 0.8200\n",
      "Epoch 60/150\n",
      "160/160 [==============================] - 0s 775us/step - loss: 0.4044 - accuracy: 0.8156\n",
      "Epoch 61/150\n",
      "160/160 [==============================] - 0s 770us/step - loss: 0.3963 - accuracy: 0.8325\n",
      "Epoch 62/150\n",
      "160/160 [==============================] - 0s 735us/step - loss: 0.3905 - accuracy: 0.8394\n",
      "Epoch 63/150\n",
      "160/160 [==============================] - 0s 750us/step - loss: 0.3914 - accuracy: 0.8413\n",
      "Epoch 64/150\n",
      "160/160 [==============================] - 0s 694us/step - loss: 0.3886 - accuracy: 0.8438\n",
      "Epoch 65/150\n",
      "160/160 [==============================] - 0s 689us/step - loss: 0.3880 - accuracy: 0.8500\n",
      "Epoch 66/150\n",
      "160/160 [==============================] - 0s 728us/step - loss: 0.3846 - accuracy: 0.8462\n",
      "Epoch 67/150\n",
      "160/160 [==============================] - 0s 724us/step - loss: 0.3828 - accuracy: 0.8475\n",
      "Epoch 68/150\n",
      "160/160 [==============================] - 0s 716us/step - loss: 0.3844 - accuracy: 0.8475\n",
      "Epoch 69/150\n",
      "160/160 [==============================] - 0s 732us/step - loss: 0.3802 - accuracy: 0.8525\n",
      "Epoch 70/150\n",
      "160/160 [==============================] - 0s 724us/step - loss: 0.3806 - accuracy: 0.8519\n",
      "Epoch 71/150\n",
      "160/160 [==============================] - 0s 695us/step - loss: 0.3774 - accuracy: 0.8556\n",
      "Epoch 72/150\n",
      "160/160 [==============================] - 0s 702us/step - loss: 0.3747 - accuracy: 0.8556\n",
      "Epoch 73/150\n",
      "160/160 [==============================] - 0s 724us/step - loss: 0.3732 - accuracy: 0.8569\n",
      "Epoch 74/150\n",
      "160/160 [==============================] - 0s 788us/step - loss: 0.3721 - accuracy: 0.8556\n",
      "Epoch 75/150\n",
      "160/160 [==============================] - 0s 731us/step - loss: 0.3698 - accuracy: 0.8575\n",
      "Epoch 76/150\n",
      "160/160 [==============================] - 0s 725us/step - loss: 0.3722 - accuracy: 0.8556\n",
      "Epoch 77/150\n",
      "160/160 [==============================] - 0s 672us/step - loss: 0.3699 - accuracy: 0.8544\n",
      "Epoch 78/150\n",
      "160/160 [==============================] - 0s 710us/step - loss: 0.3673 - accuracy: 0.8512\n",
      "Epoch 79/150\n",
      "160/160 [==============================] - 0s 770us/step - loss: 0.3691 - accuracy: 0.8587\n",
      "Epoch 80/150\n"
     ]
    },
    {
     "name": "stdout",
     "output_type": "stream",
     "text": [
      "160/160 [==============================] - 0s 706us/step - loss: 0.3704 - accuracy: 0.8581\n",
      "Epoch 81/150\n",
      "160/160 [==============================] - 0s 923us/step - loss: 0.3679 - accuracy: 0.8550\n",
      "Epoch 82/150\n",
      "160/160 [==============================] - 0s 682us/step - loss: 0.3651 - accuracy: 0.8569\n",
      "Epoch 83/150\n",
      "160/160 [==============================] - 0s 812us/step - loss: 0.3600 - accuracy: 0.8644\n",
      "Epoch 84/150\n",
      "160/160 [==============================] - 0s 765us/step - loss: 0.3626 - accuracy: 0.8600\n",
      "Epoch 85/150\n",
      "160/160 [==============================] - 0s 841us/step - loss: 0.3604 - accuracy: 0.8681\n",
      "Epoch 86/150\n",
      "160/160 [==============================] - 0s 819us/step - loss: 0.3619 - accuracy: 0.8606\n",
      "Epoch 87/150\n",
      "160/160 [==============================] - 0s 746us/step - loss: 0.3615 - accuracy: 0.8587\n",
      "Epoch 88/150\n",
      "160/160 [==============================] - 0s 692us/step - loss: 0.3572 - accuracy: 0.8619\n",
      "Epoch 89/150\n",
      "160/160 [==============================] - 0s 707us/step - loss: 0.3588 - accuracy: 0.8619\n",
      "Epoch 90/150\n",
      "160/160 [==============================] - 0s 668us/step - loss: 0.3563 - accuracy: 0.8625\n",
      "Epoch 91/150\n",
      "160/160 [==============================] - 0s 676us/step - loss: 0.3519 - accuracy: 0.8675\n",
      "Epoch 92/150\n",
      "160/160 [==============================] - 0s 680us/step - loss: 0.3538 - accuracy: 0.8625\n",
      "Epoch 93/150\n",
      "160/160 [==============================] - 0s 673us/step - loss: 0.3531 - accuracy: 0.8606\n",
      "Epoch 94/150\n",
      "160/160 [==============================] - 0s 673us/step - loss: 0.3517 - accuracy: 0.8637\n",
      "Epoch 95/150\n",
      "160/160 [==============================] - 0s 674us/step - loss: 0.3507 - accuracy: 0.8606\n",
      "Epoch 96/150\n",
      "160/160 [==============================] - 0s 692us/step - loss: 0.3501 - accuracy: 0.8681\n",
      "Epoch 97/150\n",
      "160/160 [==============================] - 0s 682us/step - loss: 0.3462 - accuracy: 0.8681\n",
      "Epoch 98/150\n",
      "160/160 [==============================] - 0s 697us/step - loss: 0.3496 - accuracy: 0.8712\n",
      "Epoch 99/150\n",
      "160/160 [==============================] - 0s 683us/step - loss: 0.3503 - accuracy: 0.8637\n",
      "Epoch 100/150\n",
      "160/160 [==============================] - 0s 710us/step - loss: 0.3467 - accuracy: 0.8675\n",
      "Epoch 101/150\n",
      "160/160 [==============================] - 0s 706us/step - loss: 0.3430 - accuracy: 0.8681\n",
      "Epoch 102/150\n",
      "160/160 [==============================] - 0s 705us/step - loss: 0.3426 - accuracy: 0.8719\n",
      "Epoch 103/150\n",
      "160/160 [==============================] - 0s 675us/step - loss: 0.3428 - accuracy: 0.8706\n",
      "Epoch 104/150\n",
      "160/160 [==============================] - 0s 683us/step - loss: 0.3382 - accuracy: 0.8662\n",
      "Epoch 105/150\n",
      "160/160 [==============================] - 0s 699us/step - loss: 0.3403 - accuracy: 0.8675\n",
      "Epoch 106/150\n",
      "160/160 [==============================] - 0s 688us/step - loss: 0.3404 - accuracy: 0.8731\n",
      "Epoch 107/150\n",
      "160/160 [==============================] - 0s 680us/step - loss: 0.3405 - accuracy: 0.8650\n",
      "Epoch 108/150\n",
      "160/160 [==============================] - 0s 680us/step - loss: 0.3340 - accuracy: 0.8769\n",
      "Epoch 109/150\n",
      "160/160 [==============================] - 0s 693us/step - loss: 0.3387 - accuracy: 0.8706\n",
      "Epoch 110/150\n",
      "160/160 [==============================] - 0s 697us/step - loss: 0.3360 - accuracy: 0.8763\n",
      "Epoch 111/150\n",
      "160/160 [==============================] - 0s 685us/step - loss: 0.3350 - accuracy: 0.8737\n",
      "Epoch 112/150\n",
      "160/160 [==============================] - 0s 678us/step - loss: 0.3354 - accuracy: 0.8769\n",
      "Epoch 113/150\n",
      "160/160 [==============================] - 0s 708us/step - loss: 0.3346 - accuracy: 0.8700\n",
      "Epoch 114/150\n",
      "160/160 [==============================] - 0s 717us/step - loss: 0.3333 - accuracy: 0.8725\n",
      "Epoch 115/150\n",
      "160/160 [==============================] - 0s 695us/step - loss: 0.3346 - accuracy: 0.8681\n",
      "Epoch 116/150\n",
      "160/160 [==============================] - 0s 683us/step - loss: 0.3339 - accuracy: 0.8706\n",
      "Epoch 117/150\n",
      "160/160 [==============================] - 0s 690us/step - loss: 0.3349 - accuracy: 0.8719\n",
      "Epoch 118/150\n",
      "160/160 [==============================] - 0s 689us/step - loss: 0.3330 - accuracy: 0.8763\n",
      "Epoch 119/150\n",
      "160/160 [==============================] - 0s 677us/step - loss: 0.3322 - accuracy: 0.8706\n",
      "Epoch 120/150\n",
      "160/160 [==============================] - 0s 678us/step - loss: 0.3294 - accuracy: 0.8725\n",
      "Epoch 121/150\n",
      "160/160 [==============================] - 0s 684us/step - loss: 0.3297 - accuracy: 0.8737\n",
      "Epoch 122/150\n",
      "160/160 [==============================] - 0s 685us/step - loss: 0.3347 - accuracy: 0.8681\n",
      "Epoch 123/150\n",
      "160/160 [==============================] - 0s 698us/step - loss: 0.3279 - accuracy: 0.8775\n",
      "Epoch 124/150\n",
      "160/160 [==============================] - 0s 688us/step - loss: 0.3304 - accuracy: 0.8750\n",
      "Epoch 125/150\n",
      "160/160 [==============================] - 0s 686us/step - loss: 0.3299 - accuracy: 0.8719\n",
      "Epoch 126/150\n",
      "160/160 [==============================] - 0s 679us/step - loss: 0.3339 - accuracy: 0.8675\n",
      "Epoch 127/150\n",
      "160/160 [==============================] - 0s 812us/step - loss: 0.3244 - accuracy: 0.8769\n",
      "Epoch 128/150\n",
      "160/160 [==============================] - 0s 930us/step - loss: 0.3283 - accuracy: 0.8725\n",
      "Epoch 129/150\n",
      "160/160 [==============================] - 0s 812us/step - loss: 0.3304 - accuracy: 0.8719\n",
      "Epoch 130/150\n",
      "160/160 [==============================] - 0s 798us/step - loss: 0.3283 - accuracy: 0.8694\n",
      "Epoch 131/150\n",
      "160/160 [==============================] - 0s 748us/step - loss: 0.3258 - accuracy: 0.8763\n",
      "Epoch 132/150\n",
      "160/160 [==============================] - 0s 681us/step - loss: 0.3269 - accuracy: 0.8731\n",
      "Epoch 133/150\n",
      "160/160 [==============================] - 0s 688us/step - loss: 0.3287 - accuracy: 0.8687\n",
      "Epoch 134/150\n",
      "160/160 [==============================] - 0s 692us/step - loss: 0.3262 - accuracy: 0.8725\n",
      "Epoch 135/150\n",
      "160/160 [==============================] - 0s 694us/step - loss: 0.3253 - accuracy: 0.8806\n",
      "Epoch 136/150\n",
      "160/160 [==============================] - 0s 663us/step - loss: 0.3271 - accuracy: 0.8719\n",
      "Epoch 137/150\n",
      "160/160 [==============================] - 0s 702us/step - loss: 0.3245 - accuracy: 0.8725\n",
      "Epoch 138/150\n",
      "160/160 [==============================] - 0s 698us/step - loss: 0.3257 - accuracy: 0.8725\n",
      "Epoch 139/150\n",
      "160/160 [==============================] - 0s 689us/step - loss: 0.3261 - accuracy: 0.8681\n",
      "Epoch 140/150\n",
      "160/160 [==============================] - 0s 695us/step - loss: 0.3204 - accuracy: 0.8763\n",
      "Epoch 141/150\n",
      "160/160 [==============================] - 0s 690us/step - loss: 0.3237 - accuracy: 0.8706\n",
      "Epoch 142/150\n",
      "160/160 [==============================] - 0s 699us/step - loss: 0.3252 - accuracy: 0.8719\n",
      "Epoch 143/150\n",
      "160/160 [==============================] - 0s 680us/step - loss: 0.3250 - accuracy: 0.8744\n",
      "Epoch 144/150\n",
      "160/160 [==============================] - 0s 687us/step - loss: 0.3214 - accuracy: 0.8687\n",
      "Epoch 145/150\n",
      "160/160 [==============================] - 0s 695us/step - loss: 0.3288 - accuracy: 0.8669\n",
      "Epoch 146/150\n",
      "160/160 [==============================] - 0s 685us/step - loss: 0.3234 - accuracy: 0.8750\n",
      "Epoch 147/150\n",
      "160/160 [==============================] - 0s 699us/step - loss: 0.3222 - accuracy: 0.8769\n",
      "Epoch 148/150\n",
      "160/160 [==============================] - 0s 700us/step - loss: 0.3239 - accuracy: 0.8788\n",
      "Epoch 149/150\n",
      "160/160 [==============================] - 0s 703us/step - loss: 0.3224 - accuracy: 0.8750\n",
      "Epoch 150/150\n",
      "160/160 [==============================] - 0s 825us/step - loss: 0.3200 - accuracy: 0.8731\n"
     ]
    }
   ],
   "source": [
    "#Tuning des paramètres batch_size et epochs\n",
    "parameter_grid = dict(batch_size=batchSize, epochs=epochs)\n",
    "\n",
    "grid = GridSearchCV(estimator = model, param_grid = parameter_grid, n_jobs=-1, cv=3)\n",
    "grid_result = grid.fit(X_train, y_train)"
   ]
  },
  {
   "cell_type": "code",
   "execution_count": 61,
   "metadata": {},
   "outputs": [
    {
     "name": "stdout",
     "output_type": "stream",
     "text": [
      "Best accuracy: 0.853742 using the parameters {'batch_size': 10, 'epochs': 150}\n"
     ]
    }
   ],
   "source": [
    "#Meilleurs score et paramètres\n",
    "print('Best accuracy: %f using the parameters %s' % (grid_result.best_score_,grid_result.best_params_ ))\n"
   ]
  },
  {
   "cell_type": "markdown",
   "metadata": {},
   "source": [
    "### Optimisation des fonctions d'optimisation et d'activation"
   ]
  },
  {
   "cell_type": "code",
   "execution_count": 66,
   "metadata": {},
   "outputs": [],
   "source": [
    "#Fonction créant un modèle de réseaux de neurones\n",
    "def create_model (optimizer='adam', activation ='relu'):\n",
    "    my_model = Sequential()\n",
    "    my_model.add(Dense(10, input_dim = 5, activation=activation))\n",
    "    my_model.add(Dense(1,activation='sigmoid'))\n",
    "    \n",
    "    my_model.compile(optimizer=optimizer, loss='binary_crossentropy', metrics = ['accuracy'])\n",
    "    return my_model"
   ]
  },
  {
   "cell_type": "code",
   "execution_count": 67,
   "metadata": {},
   "outputs": [],
   "source": [
    "#Création du modèle avec les paramèteres epochs et batch_size trouvés précédement\n",
    "model = KerasClassifier(build_fn=create_model, epochs=150, batch_size=10)"
   ]
  },
  {
   "cell_type": "code",
   "execution_count": 68,
   "metadata": {},
   "outputs": [],
   "source": [
    "# Paramètre à tester\n",
    "optimizer = ['SGD','Adam']\n",
    "activation = ['relu', 'tanh']"
   ]
  },
  {
   "cell_type": "code",
   "execution_count": 69,
   "metadata": {},
   "outputs": [
    {
     "name": "stdout",
     "output_type": "stream",
     "text": [
      "Epoch 1/150\n",
      "160/160 [==============================] - 1s 1ms/step - loss: 0.7064 - accuracy: 0.6162\n",
      "Epoch 2/150\n",
      "160/160 [==============================] - 0s 2ms/step - loss: 0.6410 - accuracy: 0.6325\n",
      "Epoch 3/150\n",
      "160/160 [==============================] - 0s 1ms/step - loss: 0.6182 - accuracy: 0.6569\n",
      "Epoch 4/150\n",
      "160/160 [==============================] - 0s 1ms/step - loss: 0.6031 - accuracy: 0.6750\n",
      "Epoch 5/150\n",
      "160/160 [==============================] - 0s 2ms/step - loss: 0.5846 - accuracy: 0.6837\n",
      "Epoch 6/150\n",
      "160/160 [==============================] - 0s 779us/step - loss: 0.5547 - accuracy: 0.6931\n",
      "Epoch 7/150\n",
      "160/160 [==============================] - 0s 772us/step - loss: 0.5346 - accuracy: 0.7225\n",
      "Epoch 8/150\n",
      "160/160 [==============================] - 0s 926us/step - loss: 0.5193 - accuracy: 0.7531\n",
      "Epoch 9/150\n",
      "160/160 [==============================] - 0s 975us/step - loss: 0.5048 - accuracy: 0.7688\n",
      "Epoch 10/150\n",
      "160/160 [==============================] - 0s 841us/step - loss: 0.4903 - accuracy: 0.7869\n",
      "Epoch 11/150\n",
      "160/160 [==============================] - 0s 1ms/step - loss: 0.4774 - accuracy: 0.7944\n",
      "Epoch 12/150\n",
      "160/160 [==============================] - 0s 1ms/step - loss: 0.4646 - accuracy: 0.7937\n",
      "Epoch 13/150\n",
      "160/160 [==============================] - 0s 1ms/step - loss: 0.4526 - accuracy: 0.8000\n",
      "Epoch 14/150\n",
      "160/160 [==============================] - 0s 1ms/step - loss: 0.4408 - accuracy: 0.8263\n",
      "Epoch 15/150\n",
      "160/160 [==============================] - 0s 1ms/step - loss: 0.4248 - accuracy: 0.8375\n",
      "Epoch 16/150\n",
      "160/160 [==============================] - 0s 1ms/step - loss: 0.4134 - accuracy: 0.8419\n",
      "Epoch 17/150\n",
      "160/160 [==============================] - 0s 1ms/step - loss: 0.4052 - accuracy: 0.8444\n",
      "Epoch 18/150\n",
      "160/160 [==============================] - 0s 2ms/step - loss: 0.3981 - accuracy: 0.8481\n",
      "Epoch 19/150\n",
      "160/160 [==============================] - 0s 1ms/step - loss: 0.3942 - accuracy: 0.8506\n",
      "Epoch 20/150\n",
      "160/160 [==============================] - 0s 1ms/step - loss: 0.3839 - accuracy: 0.8525\n",
      "Epoch 21/150\n",
      "160/160 [==============================] - 0s 1ms/step - loss: 0.3828 - accuracy: 0.8550\n",
      "Epoch 22/150\n",
      "160/160 [==============================] - 0s 1ms/step - loss: 0.3803 - accuracy: 0.8481\n",
      "Epoch 23/150\n",
      "160/160 [==============================] - 0s 1ms/step - loss: 0.3756 - accuracy: 0.8494\n",
      "Epoch 24/150\n",
      "160/160 [==============================] - 0s 1ms/step - loss: 0.3709 - accuracy: 0.8556\n",
      "Epoch 25/150\n",
      "160/160 [==============================] - 0s 1ms/step - loss: 0.3668 - accuracy: 0.8581\n",
      "Epoch 26/150\n",
      "160/160 [==============================] - 0s 842us/step - loss: 0.3658 - accuracy: 0.8556\n",
      "Epoch 27/150\n",
      "160/160 [==============================] - 0s 2ms/step - loss: 0.3634 - accuracy: 0.8544\n",
      "Epoch 28/150\n",
      "160/160 [==============================] - 0s 1ms/step - loss: 0.3620 - accuracy: 0.8537\n",
      "Epoch 29/150\n",
      "160/160 [==============================] - 0s 1ms/step - loss: 0.3597 - accuracy: 0.8569\n",
      "Epoch 30/150\n",
      "160/160 [==============================] - 0s 809us/step - loss: 0.3557 - accuracy: 0.8606\n",
      "Epoch 31/150\n",
      "160/160 [==============================] - 0s 777us/step - loss: 0.3559 - accuracy: 0.8575\n",
      "Epoch 32/150\n",
      "160/160 [==============================] - 0s 803us/step - loss: 0.3563 - accuracy: 0.8569\n",
      "Epoch 33/150\n",
      "160/160 [==============================] - 0s 839us/step - loss: 0.3528 - accuracy: 0.8587\n",
      "Epoch 34/150\n",
      "160/160 [==============================] - 0s 801us/step - loss: 0.3511 - accuracy: 0.8644\n",
      "Epoch 35/150\n",
      "160/160 [==============================] - 0s 806us/step - loss: 0.3519 - accuracy: 0.8562\n",
      "Epoch 36/150\n",
      "160/160 [==============================] - 0s 908us/step - loss: 0.3480 - accuracy: 0.8594\n",
      "Epoch 37/150\n",
      "160/160 [==============================] - 0s 783us/step - loss: 0.3486 - accuracy: 0.8581\n",
      "Epoch 38/150\n",
      "160/160 [==============================] - 0s 834us/step - loss: 0.3497 - accuracy: 0.8575\n",
      "Epoch 39/150\n",
      "160/160 [==============================] - 0s 895us/step - loss: 0.3484 - accuracy: 0.8575\n",
      "Epoch 40/150\n",
      "160/160 [==============================] - 0s 881us/step - loss: 0.3447 - accuracy: 0.8625\n",
      "Epoch 41/150\n",
      "160/160 [==============================] - 0s 911us/step - loss: 0.3450 - accuracy: 0.8637\n",
      "Epoch 42/150\n",
      "160/160 [==============================] - 0s 821us/step - loss: 0.3466 - accuracy: 0.8594\n",
      "Epoch 43/150\n",
      "160/160 [==============================] - 0s 1ms/step - loss: 0.3435 - accuracy: 0.8650\n",
      "Epoch 44/150\n",
      "160/160 [==============================] - 0s 1ms/step - loss: 0.3412 - accuracy: 0.8612\n",
      "Epoch 45/150\n",
      "160/160 [==============================] - 0s 1ms/step - loss: 0.3413 - accuracy: 0.8631\n",
      "Epoch 46/150\n",
      "160/160 [==============================] - 0s 1ms/step - loss: 0.3422 - accuracy: 0.8575\n",
      "Epoch 47/150\n",
      "160/160 [==============================] - 0s 2ms/step - loss: 0.3425 - accuracy: 0.8625\n",
      "Epoch 48/150\n",
      "160/160 [==============================] - 0s 811us/step - loss: 0.3388 - accuracy: 0.8644\n",
      "Epoch 49/150\n",
      "160/160 [==============================] - 0s 1ms/step - loss: 0.3396 - accuracy: 0.8569\n",
      "Epoch 50/150\n",
      "160/160 [==============================] - 0s 974us/step - loss: 0.3344 - accuracy: 0.8600\n",
      "Epoch 51/150\n",
      "160/160 [==============================] - 0s 861us/step - loss: 0.3364 - accuracy: 0.8619\n",
      "Epoch 52/150\n",
      "160/160 [==============================] - 0s 1ms/step - loss: 0.3360 - accuracy: 0.8600\n",
      "Epoch 53/150\n",
      "160/160 [==============================] - 0s 1ms/step - loss: 0.3392 - accuracy: 0.8606\n",
      "Epoch 54/150\n",
      "160/160 [==============================] - 0s 1ms/step - loss: 0.3361 - accuracy: 0.8656\n",
      "Epoch 55/150\n",
      "160/160 [==============================] - 0s 2ms/step - loss: 0.3325 - accuracy: 0.8662\n",
      "Epoch 56/150\n",
      "160/160 [==============================] - 0s 982us/step - loss: 0.3317 - accuracy: 0.8706\n",
      "Epoch 57/150\n",
      "160/160 [==============================] - 0s 867us/step - loss: 0.3314 - accuracy: 0.8719\n",
      "Epoch 58/150\n",
      "160/160 [==============================] - 0s 931us/step - loss: 0.3309 - accuracy: 0.8612\n",
      "Epoch 59/150\n",
      "160/160 [==============================] - 0s 1ms/step - loss: 0.3326 - accuracy: 0.8612\n",
      "Epoch 60/150\n",
      "160/160 [==============================] - 0s 826us/step - loss: 0.3298 - accuracy: 0.8656\n",
      "Epoch 61/150\n",
      "160/160 [==============================] - 0s 875us/step - loss: 0.3281 - accuracy: 0.8650\n",
      "Epoch 62/150\n",
      "160/160 [==============================] - 0s 907us/step - loss: 0.3301 - accuracy: 0.8625\n",
      "Epoch 63/150\n",
      "160/160 [==============================] - 0s 1ms/step - loss: 0.3290 - accuracy: 0.8637\n",
      "Epoch 64/150\n",
      "160/160 [==============================] - 0s 675us/step - loss: 0.3287 - accuracy: 0.8600\n",
      "Epoch 65/150\n",
      "160/160 [==============================] - 0s 943us/step - loss: 0.3269 - accuracy: 0.8637\n",
      "Epoch 66/150\n",
      "160/160 [==============================] - 0s 957us/step - loss: 0.3244 - accuracy: 0.8669\n",
      "Epoch 67/150\n",
      "160/160 [==============================] - 0s 911us/step - loss: 0.3237 - accuracy: 0.8769\n",
      "Epoch 68/150\n",
      "160/160 [==============================] - 0s 866us/step - loss: 0.3274 - accuracy: 0.8681\n",
      "Epoch 69/150\n",
      "160/160 [==============================] - 0s 1ms/step - loss: 0.3264 - accuracy: 0.8650\n",
      "Epoch 70/150\n",
      "160/160 [==============================] - 0s 804us/step - loss: 0.3239 - accuracy: 0.8650\n",
      "Epoch 71/150\n",
      "160/160 [==============================] - 0s 843us/step - loss: 0.3275 - accuracy: 0.8694\n",
      "Epoch 72/150\n",
      "160/160 [==============================] - 0s 802us/step - loss: 0.3235 - accuracy: 0.8694\n",
      "Epoch 73/150\n",
      "160/160 [==============================] - 0s 793us/step - loss: 0.3231 - accuracy: 0.8675\n",
      "Epoch 74/150\n",
      "160/160 [==============================] - 0s 783us/step - loss: 0.3267 - accuracy: 0.8731\n",
      "Epoch 75/150\n",
      "160/160 [==============================] - 0s 729us/step - loss: 0.3229 - accuracy: 0.8700\n",
      "Epoch 76/150\n",
      "160/160 [==============================] - 0s 832us/step - loss: 0.3211 - accuracy: 0.8669\n",
      "Epoch 77/150\n",
      "160/160 [==============================] - 0s 754us/step - loss: 0.3232 - accuracy: 0.8700\n",
      "Epoch 78/150\n",
      "160/160 [==============================] - 0s 736us/step - loss: 0.3196 - accuracy: 0.8756\n",
      "Epoch 79/150\n",
      "160/160 [==============================] - 0s 726us/step - loss: 0.3230 - accuracy: 0.8763\n",
      "Epoch 80/150\n"
     ]
    },
    {
     "name": "stdout",
     "output_type": "stream",
     "text": [
      "160/160 [==============================] - 0s 769us/step - loss: 0.3275 - accuracy: 0.8681\n",
      "Epoch 81/150\n",
      "160/160 [==============================] - 0s 735us/step - loss: 0.3213 - accuracy: 0.8719\n",
      "Epoch 82/150\n",
      "160/160 [==============================] - 0s 704us/step - loss: 0.3181 - accuracy: 0.8669\n",
      "Epoch 83/150\n",
      "160/160 [==============================] - 0s 707us/step - loss: 0.3165 - accuracy: 0.8744\n",
      "Epoch 84/150\n",
      "160/160 [==============================] - 0s 687us/step - loss: 0.3200 - accuracy: 0.8687\n",
      "Epoch 85/150\n",
      "160/160 [==============================] - 0s 749us/step - loss: 0.3148 - accuracy: 0.8731\n",
      "Epoch 86/150\n",
      "160/160 [==============================] - 0s 729us/step - loss: 0.3190 - accuracy: 0.8681\n",
      "Epoch 87/150\n",
      "160/160 [==============================] - 0s 683us/step - loss: 0.3184 - accuracy: 0.8669\n",
      "Epoch 88/150\n",
      "160/160 [==============================] - 0s 707us/step - loss: 0.3210 - accuracy: 0.8662\n",
      "Epoch 89/150\n",
      "160/160 [==============================] - 0s 699us/step - loss: 0.3153 - accuracy: 0.8706\n",
      "Epoch 90/150\n",
      "160/160 [==============================] - 0s 736us/step - loss: 0.3178 - accuracy: 0.8706\n",
      "Epoch 91/150\n",
      "160/160 [==============================] - 0s 696us/step - loss: 0.3168 - accuracy: 0.8719\n",
      "Epoch 92/150\n",
      "160/160 [==============================] - 0s 716us/step - loss: 0.3129 - accuracy: 0.8694\n",
      "Epoch 93/150\n",
      "160/160 [==============================] - 0s 773us/step - loss: 0.3158 - accuracy: 0.8756\n",
      "Epoch 94/150\n",
      "160/160 [==============================] - 0s 699us/step - loss: 0.3135 - accuracy: 0.8737\n",
      "Epoch 95/150\n",
      "160/160 [==============================] - 0s 729us/step - loss: 0.3147 - accuracy: 0.8706\n",
      "Epoch 96/150\n",
      "160/160 [==============================] - 0s 710us/step - loss: 0.3109 - accuracy: 0.8769\n",
      "Epoch 97/150\n",
      "160/160 [==============================] - 0s 699us/step - loss: 0.3110 - accuracy: 0.8712\n",
      "Epoch 98/150\n",
      "160/160 [==============================] - 0s 747us/step - loss: 0.3180 - accuracy: 0.8694\n",
      "Epoch 99/150\n",
      "160/160 [==============================] - 0s 712us/step - loss: 0.3108 - accuracy: 0.8775\n",
      "Epoch 100/150\n",
      "160/160 [==============================] - 0s 698us/step - loss: 0.3140 - accuracy: 0.8763\n",
      "Epoch 101/150\n",
      "160/160 [==============================] - 0s 698us/step - loss: 0.3128 - accuracy: 0.8794\n",
      "Epoch 102/150\n",
      "160/160 [==============================] - 0s 751us/step - loss: 0.3080 - accuracy: 0.8706\n",
      "Epoch 103/150\n",
      "160/160 [==============================] - 0s 721us/step - loss: 0.3089 - accuracy: 0.8719\n",
      "Epoch 104/150\n",
      "160/160 [==============================] - 0s 696us/step - loss: 0.3105 - accuracy: 0.8687\n",
      "Epoch 105/150\n",
      "160/160 [==============================] - 0s 726us/step - loss: 0.3097 - accuracy: 0.8800\n",
      "Epoch 106/150\n",
      "160/160 [==============================] - 0s 690us/step - loss: 0.3109 - accuracy: 0.8769\n",
      "Epoch 107/150\n",
      "160/160 [==============================] - 0s 744us/step - loss: 0.3108 - accuracy: 0.8719\n",
      "Epoch 108/150\n",
      "160/160 [==============================] - 0s 761us/step - loss: 0.3079 - accuracy: 0.8719\n",
      "Epoch 109/150\n",
      "160/160 [==============================] - 0s 702us/step - loss: 0.3105 - accuracy: 0.8719\n",
      "Epoch 110/150\n",
      "160/160 [==============================] - 0s 764us/step - loss: 0.3083 - accuracy: 0.8794\n",
      "Epoch 111/150\n",
      "160/160 [==============================] - 0s 713us/step - loss: 0.3079 - accuracy: 0.8775\n",
      "Epoch 112/150\n",
      "160/160 [==============================] - 0s 697us/step - loss: 0.3093 - accuracy: 0.8737\n",
      "Epoch 113/150\n",
      "160/160 [==============================] - 0s 719us/step - loss: 0.3085 - accuracy: 0.8706\n",
      "Epoch 114/150\n",
      "160/160 [==============================] - 0s 715us/step - loss: 0.3075 - accuracy: 0.8750\n",
      "Epoch 115/150\n",
      "160/160 [==============================] - 0s 738us/step - loss: 0.3071 - accuracy: 0.8681\n",
      "Epoch 116/150\n",
      "160/160 [==============================] - 0s 731us/step - loss: 0.3048 - accuracy: 0.8800\n",
      "Epoch 117/150\n",
      "160/160 [==============================] - 0s 698us/step - loss: 0.3093 - accuracy: 0.8744\n",
      "Epoch 118/150\n",
      "160/160 [==============================] - 0s 709us/step - loss: 0.3032 - accuracy: 0.8800\n",
      "Epoch 119/150\n",
      "160/160 [==============================] - 0s 749us/step - loss: 0.3068 - accuracy: 0.8731\n",
      "Epoch 120/150\n",
      "160/160 [==============================] - 0s 724us/step - loss: 0.3035 - accuracy: 0.8706\n",
      "Epoch 121/150\n",
      "160/160 [==============================] - 0s 730us/step - loss: 0.3048 - accuracy: 0.8819\n",
      "Epoch 122/150\n",
      "160/160 [==============================] - 0s 722us/step - loss: 0.3087 - accuracy: 0.8669\n",
      "Epoch 123/150\n",
      "160/160 [==============================] - 0s 700us/step - loss: 0.3015 - accuracy: 0.8850\n",
      "Epoch 124/150\n",
      "160/160 [==============================] - 0s 745us/step - loss: 0.3034 - accuracy: 0.8800\n",
      "Epoch 125/150\n",
      "160/160 [==============================] - 0s 704us/step - loss: 0.3024 - accuracy: 0.8819\n",
      "Epoch 126/150\n",
      "160/160 [==============================] - 0s 699us/step - loss: 0.3033 - accuracy: 0.8806\n",
      "Epoch 127/150\n",
      "160/160 [==============================] - 0s 747us/step - loss: 0.3030 - accuracy: 0.8850\n",
      "Epoch 128/150\n",
      "160/160 [==============================] - 0s 711us/step - loss: 0.3031 - accuracy: 0.8831\n",
      "Epoch 129/150\n",
      "160/160 [==============================] - 0s 713us/step - loss: 0.3080 - accuracy: 0.8725\n",
      "Epoch 130/150\n",
      "160/160 [==============================] - 0s 719us/step - loss: 0.3030 - accuracy: 0.8731\n",
      "Epoch 131/150\n",
      "160/160 [==============================] - 0s 708us/step - loss: 0.3029 - accuracy: 0.8763\n",
      "Epoch 132/150\n",
      "160/160 [==============================] - 0s 736us/step - loss: 0.3052 - accuracy: 0.8756\n",
      "Epoch 133/150\n",
      "160/160 [==============================] - 0s 782us/step - loss: 0.3024 - accuracy: 0.8731\n",
      "Epoch 134/150\n",
      "160/160 [==============================] - 0s 695us/step - loss: 0.3023 - accuracy: 0.8800\n",
      "Epoch 135/150\n",
      "160/160 [==============================] - 0s 711us/step - loss: 0.2992 - accuracy: 0.8775\n",
      "Epoch 136/150\n",
      "160/160 [==============================] - 0s 757us/step - loss: 0.3028 - accuracy: 0.8769\n",
      "Epoch 137/150\n",
      "160/160 [==============================] - 0s 704us/step - loss: 0.2992 - accuracy: 0.8769\n",
      "Epoch 138/150\n",
      "160/160 [==============================] - 0s 709us/step - loss: 0.3012 - accuracy: 0.8825\n",
      "Epoch 139/150\n",
      "160/160 [==============================] - 0s 689us/step - loss: 0.3011 - accuracy: 0.8756\n",
      "Epoch 140/150\n",
      "160/160 [==============================] - 0s 705us/step - loss: 0.3003 - accuracy: 0.8819\n",
      "Epoch 141/150\n",
      "160/160 [==============================] - 0s 750us/step - loss: 0.3022 - accuracy: 0.8788\n",
      "Epoch 142/150\n",
      "160/160 [==============================] - 0s 727us/step - loss: 0.3007 - accuracy: 0.8750\n",
      "Epoch 143/150\n",
      "160/160 [==============================] - 0s 706us/step - loss: 0.3017 - accuracy: 0.8781\n",
      "Epoch 144/150\n",
      "160/160 [==============================] - 0s 741us/step - loss: 0.3016 - accuracy: 0.8794\n",
      "Epoch 145/150\n",
      "160/160 [==============================] - 0s 711us/step - loss: 0.2976 - accuracy: 0.8813\n",
      "Epoch 146/150\n",
      "160/160 [==============================] - 0s 732us/step - loss: 0.3000 - accuracy: 0.8731\n",
      "Epoch 147/150\n",
      "160/160 [==============================] - 0s 717us/step - loss: 0.3014 - accuracy: 0.8731\n",
      "Epoch 148/150\n",
      "160/160 [==============================] - 0s 712us/step - loss: 0.3000 - accuracy: 0.8756\n",
      "Epoch 149/150\n",
      "160/160 [==============================] - 0s 751us/step - loss: 0.2968 - accuracy: 0.8806\n",
      "Epoch 150/150\n",
      "160/160 [==============================] - 0s 718us/step - loss: 0.2983 - accuracy: 0.8819\n"
     ]
    }
   ],
   "source": [
    "#Tuning des paramètres optimizer et activation\n",
    "parameter_grid = dict(optimizer=optimizer, activation=activation)\n",
    "\n",
    "grid = GridSearchCV(estimator = model, param_grid = parameter_grid, n_jobs=-1, cv=3)\n",
    "grid_result = grid.fit(X_train, y_train)"
   ]
  },
  {
   "cell_type": "code",
   "execution_count": 39,
   "metadata": {},
   "outputs": [
    {
     "name": "stdout",
     "output_type": "stream",
     "text": [
      "Best accuracy: 0.890618 using the parameters {'activation': 'tanh', 'optimizer': 'Adam'}\n"
     ]
    }
   ],
   "source": [
    "#Meilleurs score et paramètres\n",
    "print('Best accuracy: %f using the parameters %s' % (grid_result.best_score_,grid_result.best_params_ ))"
   ]
  },
  {
   "cell_type": "markdown",
   "metadata": {},
   "source": [
    "### Optimisation du nombre de neurones et de couches"
   ]
  },
  {
   "cell_type": "code",
   "execution_count": 70,
   "metadata": {},
   "outputs": [],
   "source": [
    "#Fonction créant un modèle de réseaux de neurones, avec les fonctions adam et relu trouvées précédement\n",
    "def create_model (nn=10, nl=1):\n",
    "    my_model = Sequential()\n",
    "    my_model.add(Dense(10, input_dim = 5, activation='tanh'))\n",
    "    for i in range(nl):\n",
    "        my_model.add(Dense(nn,activation='tanh'))\n",
    "    my_model.add(Dense(1,activation='sigmoid'))\n",
    "    my_model.compile(optimizer='Adam', loss='binary_crossentropy', metrics = ['accuracy'])\n",
    "    return my_model"
   ]
  },
  {
   "cell_type": "code",
   "execution_count": 71,
   "metadata": {},
   "outputs": [],
   "source": [
    "#Création du modèle avec les paramèteres epochs et batch_size trouvés précédement\n",
    "model = KerasClassifier(build_fn=create_model, epochs=150, batch_size=10)"
   ]
  },
  {
   "cell_type": "code",
   "execution_count": 72,
   "metadata": {},
   "outputs": [],
   "source": [
    "# Paramètre à tester\n",
    "nl = [1,2,3]\n",
    "nn = [10, 20, 40, 60]"
   ]
  },
  {
   "cell_type": "code",
   "execution_count": 73,
   "metadata": {},
   "outputs": [
    {
     "name": "stdout",
     "output_type": "stream",
     "text": [
      "Epoch 1/150\n",
      "160/160 [==============================] - 1s 1ms/step - loss: 0.6771 - accuracy: 0.5981\n",
      "Epoch 2/150\n",
      "160/160 [==============================] - 0s 1ms/step - loss: 0.6324 - accuracy: 0.6475\n",
      "Epoch 3/150\n",
      "160/160 [==============================] - 0s 882us/step - loss: 0.6041 - accuracy: 0.6675\n",
      "Epoch 4/150\n",
      "160/160 [==============================] - 0s 945us/step - loss: 0.5837 - accuracy: 0.6787\n",
      "Epoch 5/150\n",
      "160/160 [==============================] - 0s 879us/step - loss: 0.5684 - accuracy: 0.6988\n",
      "Epoch 6/150\n",
      "160/160 [==============================] - 0s 872us/step - loss: 0.5388 - accuracy: 0.7244\n",
      "Epoch 7/150\n",
      "160/160 [==============================] - 0s 849us/step - loss: 0.4922 - accuracy: 0.7781\n",
      "Epoch 8/150\n",
      "160/160 [==============================] - 0s 884us/step - loss: 0.4636 - accuracy: 0.7925\n",
      "Epoch 9/150\n",
      "160/160 [==============================] - 0s 905us/step - loss: 0.4495 - accuracy: 0.7987\n",
      "Epoch 10/150\n",
      "160/160 [==============================] - 0s 895us/step - loss: 0.4410 - accuracy: 0.8056\n",
      "Epoch 11/150\n",
      "160/160 [==============================] - 0s 886us/step - loss: 0.4262 - accuracy: 0.8138\n",
      "Epoch 12/150\n",
      "160/160 [==============================] - 0s 1ms/step - loss: 0.4185 - accuracy: 0.8169\n",
      "Epoch 13/150\n",
      "160/160 [==============================] - 0s 1ms/step - loss: 0.4187 - accuracy: 0.8219\n",
      "Epoch 14/150\n",
      "160/160 [==============================] - 0s 1ms/step - loss: 0.4000 - accuracy: 0.8300\n",
      "Epoch 15/150\n",
      "160/160 [==============================] - 0s 2ms/step - loss: 0.3923 - accuracy: 0.8319\n",
      "Epoch 16/150\n",
      "160/160 [==============================] - 0s 1ms/step - loss: 0.3877 - accuracy: 0.8319\n",
      "Epoch 17/150\n",
      "160/160 [==============================] - 0s 2ms/step - loss: 0.3888 - accuracy: 0.8313\n",
      "Epoch 18/150\n",
      "160/160 [==============================] - 0s 3ms/step - loss: 0.3771 - accuracy: 0.8344\n",
      "Epoch 19/150\n",
      "160/160 [==============================] - 0s 1ms/step - loss: 0.3724 - accuracy: 0.8406\n",
      "Epoch 20/150\n",
      "160/160 [==============================] - 0s 2ms/step - loss: 0.3681 - accuracy: 0.8487\n",
      "Epoch 21/150\n",
      "160/160 [==============================] - 0s 975us/step - loss: 0.3599 - accuracy: 0.8462\n",
      "Epoch 22/150\n",
      "160/160 [==============================] - 0s 978us/step - loss: 0.3589 - accuracy: 0.8500\n",
      "Epoch 23/150\n",
      "160/160 [==============================] - 0s 2ms/step - loss: 0.3604 - accuracy: 0.8506\n",
      "Epoch 24/150\n",
      "160/160 [==============================] - 1s 3ms/step - loss: 0.3534 - accuracy: 0.8469\n",
      "Epoch 25/150\n",
      "160/160 [==============================] - 0s 2ms/step - loss: 0.3550 - accuracy: 0.8525\n",
      "Epoch 26/150\n",
      "160/160 [==============================] - 0s 2ms/step - loss: 0.3456 - accuracy: 0.8569\n",
      "Epoch 27/150\n",
      "160/160 [==============================] - 0s 1ms/step - loss: 0.3484 - accuracy: 0.8556\n",
      "Epoch 28/150\n",
      "160/160 [==============================] - 0s 1ms/step - loss: 0.3368 - accuracy: 0.8575\n",
      "Epoch 29/150\n",
      "160/160 [==============================] - 0s 1ms/step - loss: 0.3363 - accuracy: 0.8631\n",
      "Epoch 30/150\n",
      "160/160 [==============================] - 0s 980us/step - loss: 0.3347 - accuracy: 0.8625\n",
      "Epoch 31/150\n",
      "160/160 [==============================] - 0s 963us/step - loss: 0.3308 - accuracy: 0.8637\n",
      "Epoch 32/150\n",
      "160/160 [==============================] - 0s 922us/step - loss: 0.3293 - accuracy: 0.8650\n",
      "Epoch 33/150\n",
      "160/160 [==============================] - 0s 2ms/step - loss: 0.3261 - accuracy: 0.8650\n",
      "Epoch 34/150\n",
      "160/160 [==============================] - 0s 1ms/step - loss: 0.3224 - accuracy: 0.8700\n",
      "Epoch 35/150\n",
      "160/160 [==============================] - 0s 1ms/step - loss: 0.3235 - accuracy: 0.8687\n",
      "Epoch 36/150\n",
      "160/160 [==============================] - 0s 1ms/step - loss: 0.3202 - accuracy: 0.8656\n",
      "Epoch 37/150\n",
      "160/160 [==============================] - 0s 1ms/step - loss: 0.3231 - accuracy: 0.8650\n",
      "Epoch 38/150\n",
      "160/160 [==============================] - 0s 2ms/step - loss: 0.3177 - accuracy: 0.8763\n",
      "Epoch 39/150\n",
      "160/160 [==============================] - 0s 2ms/step - loss: 0.3152 - accuracy: 0.8694\n",
      "Epoch 40/150\n",
      "160/160 [==============================] - 0s 1ms/step - loss: 0.3183 - accuracy: 0.8687\n",
      "Epoch 41/150\n",
      "160/160 [==============================] - 0s 2ms/step - loss: 0.3126 - accuracy: 0.8769\n",
      "Epoch 42/150\n",
      "160/160 [==============================] - 0s 1ms/step - loss: 0.3177 - accuracy: 0.8687\n",
      "Epoch 43/150\n",
      "160/160 [==============================] - 0s 1ms/step - loss: 0.3143 - accuracy: 0.8744\n",
      "Epoch 44/150\n",
      "160/160 [==============================] - 0s 1ms/step - loss: 0.3200 - accuracy: 0.8725\n",
      "Epoch 45/150\n",
      "160/160 [==============================] - 0s 1ms/step - loss: 0.3129 - accuracy: 0.8725\n",
      "Epoch 46/150\n",
      "160/160 [==============================] - 0s 1ms/step - loss: 0.3172 - accuracy: 0.8675\n",
      "Epoch 47/150\n",
      "160/160 [==============================] - 0s 1ms/step - loss: 0.3157 - accuracy: 0.8594\n",
      "Epoch 48/150\n",
      "160/160 [==============================] - 0s 1ms/step - loss: 0.3121 - accuracy: 0.8794\n",
      "Epoch 49/150\n",
      "160/160 [==============================] - 0s 1ms/step - loss: 0.3099 - accuracy: 0.8750\n",
      "Epoch 50/150\n",
      "160/160 [==============================] - 0s 1ms/step - loss: 0.3122 - accuracy: 0.8781\n",
      "Epoch 51/150\n",
      "160/160 [==============================] - 0s 1ms/step - loss: 0.3094 - accuracy: 0.8788\n",
      "Epoch 52/150\n",
      "160/160 [==============================] - 0s 1ms/step - loss: 0.3181 - accuracy: 0.8656\n",
      "Epoch 53/150\n",
      "160/160 [==============================] - 0s 1ms/step - loss: 0.3090 - accuracy: 0.8763\n",
      "Epoch 54/150\n",
      "160/160 [==============================] - 0s 958us/step - loss: 0.3122 - accuracy: 0.8775\n",
      "Epoch 55/150\n",
      "160/160 [==============================] - 0s 1ms/step - loss: 0.3141 - accuracy: 0.8756\n",
      "Epoch 56/150\n",
      "160/160 [==============================] - 0s 1ms/step - loss: 0.3143 - accuracy: 0.8737\n",
      "Epoch 57/150\n",
      "160/160 [==============================] - 0s 1ms/step - loss: 0.3076 - accuracy: 0.8725\n",
      "Epoch 58/150\n",
      "160/160 [==============================] - 0s 1ms/step - loss: 0.3105 - accuracy: 0.8669\n",
      "Epoch 59/150\n",
      "160/160 [==============================] - 0s 1ms/step - loss: 0.3054 - accuracy: 0.8756\n",
      "Epoch 60/150\n",
      "160/160 [==============================] - 0s 1ms/step - loss: 0.3040 - accuracy: 0.8763\n",
      "Epoch 61/150\n",
      "160/160 [==============================] - 0s 1ms/step - loss: 0.3070 - accuracy: 0.8712\n",
      "Epoch 62/150\n",
      "160/160 [==============================] - 0s 1ms/step - loss: 0.3107 - accuracy: 0.8737\n",
      "Epoch 63/150\n",
      "160/160 [==============================] - 0s 1ms/step - loss: 0.3033 - accuracy: 0.8712\n",
      "Epoch 64/150\n",
      "160/160 [==============================] - 0s 1ms/step - loss: 0.3036 - accuracy: 0.8775\n",
      "Epoch 65/150\n",
      "160/160 [==============================] - 0s 2ms/step - loss: 0.3077 - accuracy: 0.8681\n",
      "Epoch 66/150\n",
      "160/160 [==============================] - 0s 1ms/step - loss: 0.3054 - accuracy: 0.8675\n",
      "Epoch 67/150\n",
      "160/160 [==============================] - 0s 1ms/step - loss: 0.3056 - accuracy: 0.8706\n",
      "Epoch 68/150\n",
      "160/160 [==============================] - 0s 1ms/step - loss: 0.3006 - accuracy: 0.8825\n",
      "Epoch 69/150\n",
      "160/160 [==============================] - 0s 1ms/step - loss: 0.3038 - accuracy: 0.8719\n",
      "Epoch 70/150\n",
      "160/160 [==============================] - 0s 1ms/step - loss: 0.3018 - accuracy: 0.8744\n",
      "Epoch 71/150\n",
      "160/160 [==============================] - 0s 1ms/step - loss: 0.3076 - accuracy: 0.8731\n",
      "Epoch 72/150\n",
      "160/160 [==============================] - 0s 1ms/step - loss: 0.3034 - accuracy: 0.8775\n",
      "Epoch 73/150\n",
      "160/160 [==============================] - 0s 947us/step - loss: 0.3050 - accuracy: 0.8769\n",
      "Epoch 74/150\n",
      "160/160 [==============================] - 0s 1ms/step - loss: 0.2975 - accuracy: 0.8794\n",
      "Epoch 75/150\n",
      "160/160 [==============================] - 0s 1ms/step - loss: 0.3051 - accuracy: 0.8731\n",
      "Epoch 76/150\n",
      "160/160 [==============================] - 0s 1ms/step - loss: 0.3000 - accuracy: 0.8806\n",
      "Epoch 77/150\n",
      "160/160 [==============================] - 0s 1ms/step - loss: 0.3033 - accuracy: 0.8788\n",
      "Epoch 78/150\n",
      "160/160 [==============================] - 0s 1ms/step - loss: 0.2943 - accuracy: 0.8819\n",
      "Epoch 79/150\n",
      "160/160 [==============================] - 0s 2ms/step - loss: 0.3081 - accuracy: 0.8731\n",
      "Epoch 80/150\n",
      "160/160 [==============================] - 0s 1ms/step - loss: 0.2997 - accuracy: 0.8800\n",
      "Epoch 81/150\n"
     ]
    },
    {
     "name": "stdout",
     "output_type": "stream",
     "text": [
      "160/160 [==============================] - 0s 2ms/step - loss: 0.3007 - accuracy: 0.8731\n",
      "Epoch 82/150\n",
      "160/160 [==============================] - 0s 1ms/step - loss: 0.3029 - accuracy: 0.8781\n",
      "Epoch 83/150\n",
      "160/160 [==============================] - 0s 1ms/step - loss: 0.3002 - accuracy: 0.8781\n",
      "Epoch 84/150\n",
      "160/160 [==============================] - 0s 1ms/step - loss: 0.3120 - accuracy: 0.8700\n",
      "Epoch 85/150\n",
      "160/160 [==============================] - 0s 1ms/step - loss: 0.2978 - accuracy: 0.8794\n",
      "Epoch 86/150\n",
      "160/160 [==============================] - 0s 1ms/step - loss: 0.3003 - accuracy: 0.8794\n",
      "Epoch 87/150\n",
      "160/160 [==============================] - 0s 1ms/step - loss: 0.3003 - accuracy: 0.8788\n",
      "Epoch 88/150\n",
      "160/160 [==============================] - 0s 945us/step - loss: 0.2999 - accuracy: 0.8750\n",
      "Epoch 89/150\n",
      "160/160 [==============================] - 0s 938us/step - loss: 0.2977 - accuracy: 0.8806\n",
      "Epoch 90/150\n",
      "160/160 [==============================] - 0s 1ms/step - loss: 0.3038 - accuracy: 0.8731\n",
      "Epoch 91/150\n",
      "160/160 [==============================] - 0s 1ms/step - loss: 0.3028 - accuracy: 0.8775\n",
      "Epoch 92/150\n",
      "160/160 [==============================] - 0s 1ms/step - loss: 0.2986 - accuracy: 0.8819\n",
      "Epoch 93/150\n",
      "160/160 [==============================] - 0s 1ms/step - loss: 0.2968 - accuracy: 0.8781\n",
      "Epoch 94/150\n",
      "160/160 [==============================] - 0s 953us/step - loss: 0.3001 - accuracy: 0.8706\n",
      "Epoch 95/150\n",
      "160/160 [==============================] - 0s 829us/step - loss: 0.2978 - accuracy: 0.8756\n",
      "Epoch 96/150\n",
      "160/160 [==============================] - 0s 880us/step - loss: 0.2898 - accuracy: 0.8825\n",
      "Epoch 97/150\n",
      "160/160 [==============================] - 0s 911us/step - loss: 0.2925 - accuracy: 0.8819\n",
      "Epoch 98/150\n",
      "160/160 [==============================] - 0s 935us/step - loss: 0.2974 - accuracy: 0.8775\n",
      "Epoch 99/150\n",
      "160/160 [==============================] - 0s 932us/step - loss: 0.2944 - accuracy: 0.8769\n",
      "Epoch 100/150\n",
      "160/160 [==============================] - 0s 1ms/step - loss: 0.2938 - accuracy: 0.8700\n",
      "Epoch 101/150\n",
      "160/160 [==============================] - 0s 958us/step - loss: 0.2942 - accuracy: 0.8781\n",
      "Epoch 102/150\n",
      "160/160 [==============================] - 0s 839us/step - loss: 0.2985 - accuracy: 0.8775\n",
      "Epoch 103/150\n",
      "160/160 [==============================] - 0s 887us/step - loss: 0.2950 - accuracy: 0.8775\n",
      "Epoch 104/150\n",
      "160/160 [==============================] - 0s 1ms/step - loss: 0.2962 - accuracy: 0.8806\n",
      "Epoch 105/150\n",
      "160/160 [==============================] - 0s 1ms/step - loss: 0.2962 - accuracy: 0.8744\n",
      "Epoch 106/150\n",
      "160/160 [==============================] - 0s 1ms/step - loss: 0.2949 - accuracy: 0.8844\n",
      "Epoch 107/150\n",
      "160/160 [==============================] - 0s 1ms/step - loss: 0.3009 - accuracy: 0.8800\n",
      "Epoch 108/150\n",
      "160/160 [==============================] - 0s 1ms/step - loss: 0.2923 - accuracy: 0.8788\n",
      "Epoch 109/150\n",
      "160/160 [==============================] - 0s 835us/step - loss: 0.2900 - accuracy: 0.8838\n",
      "Epoch 110/150\n",
      "160/160 [==============================] - 0s 873us/step - loss: 0.2947 - accuracy: 0.8806\n",
      "Epoch 111/150\n",
      "160/160 [==============================] - 0s 887us/step - loss: 0.2913 - accuracy: 0.8844\n",
      "Epoch 112/150\n",
      "160/160 [==============================] - 0s 940us/step - loss: 0.2959 - accuracy: 0.8756\n",
      "Epoch 113/150\n",
      "160/160 [==============================] - 0s 949us/step - loss: 0.2860 - accuracy: 0.8813\n",
      "Epoch 114/150\n",
      "160/160 [==============================] - 0s 954us/step - loss: 0.2922 - accuracy: 0.8794\n",
      "Epoch 115/150\n",
      "160/160 [==============================] - 0s 949us/step - loss: 0.2889 - accuracy: 0.8831\n",
      "Epoch 116/150\n",
      "160/160 [==============================] - 0s 878us/step - loss: 0.2884 - accuracy: 0.8831\n",
      "Epoch 117/150\n",
      "160/160 [==============================] - 0s 882us/step - loss: 0.2847 - accuracy: 0.8819\n",
      "Epoch 118/150\n",
      "160/160 [==============================] - 0s 863us/step - loss: 0.2950 - accuracy: 0.8763\n",
      "Epoch 119/150\n",
      "160/160 [==============================] - 0s 915us/step - loss: 0.2883 - accuracy: 0.8806\n",
      "Epoch 120/150\n",
      "160/160 [==============================] - 0s 1ms/step - loss: 0.2935 - accuracy: 0.8788\n",
      "Epoch 121/150\n",
      "160/160 [==============================] - 0s 1ms/step - loss: 0.2859 - accuracy: 0.8819\n",
      "Epoch 122/150\n",
      "160/160 [==============================] - 0s 1ms/step - loss: 0.2897 - accuracy: 0.8794\n",
      "Epoch 123/150\n",
      "160/160 [==============================] - 0s 1ms/step - loss: 0.2832 - accuracy: 0.8863\n",
      "Epoch 124/150\n",
      "160/160 [==============================] - 0s 993us/step - loss: 0.2901 - accuracy: 0.8856\n",
      "Epoch 125/150\n",
      "160/160 [==============================] - 0s 945us/step - loss: 0.2957 - accuracy: 0.8794\n",
      "Epoch 126/150\n",
      "160/160 [==============================] - 0s 1ms/step - loss: 0.2864 - accuracy: 0.8844\n",
      "Epoch 127/150\n",
      "160/160 [==============================] - 0s 901us/step - loss: 0.2877 - accuracy: 0.8844\n",
      "Epoch 128/150\n",
      "160/160 [==============================] - 0s 994us/step - loss: 0.2890 - accuracy: 0.8813\n",
      "Epoch 129/150\n",
      "160/160 [==============================] - 0s 1ms/step - loss: 0.2843 - accuracy: 0.8788\n",
      "Epoch 130/150\n",
      "160/160 [==============================] - 0s 1ms/step - loss: 0.2911 - accuracy: 0.8731\n",
      "Epoch 131/150\n",
      "160/160 [==============================] - 0s 1ms/step - loss: 0.2890 - accuracy: 0.8806\n",
      "Epoch 132/150\n",
      "160/160 [==============================] - 0s 1ms/step - loss: 0.2876 - accuracy: 0.8831\n",
      "Epoch 133/150\n",
      "160/160 [==============================] - 0s 980us/step - loss: 0.2910 - accuracy: 0.8731\n",
      "Epoch 134/150\n",
      "160/160 [==============================] - 0s 911us/step - loss: 0.2898 - accuracy: 0.8775\n",
      "Epoch 135/150\n",
      "160/160 [==============================] - 0s 906us/step - loss: 0.2854 - accuracy: 0.8806\n",
      "Epoch 136/150\n",
      "160/160 [==============================] - 0s 930us/step - loss: 0.2823 - accuracy: 0.8856\n",
      "Epoch 137/150\n",
      "160/160 [==============================] - 0s 919us/step - loss: 0.2836 - accuracy: 0.8825\n",
      "Epoch 138/150\n",
      "160/160 [==============================] - 0s 984us/step - loss: 0.2816 - accuracy: 0.8800\n",
      "Epoch 139/150\n",
      "160/160 [==============================] - 0s 1ms/step - loss: 0.2881 - accuracy: 0.8781\n",
      "Epoch 140/150\n",
      "160/160 [==============================] - 0s 1ms/step - loss: 0.2820 - accuracy: 0.8850\n",
      "Epoch 141/150\n",
      "160/160 [==============================] - 0s 1ms/step - loss: 0.2881 - accuracy: 0.8850\n",
      "Epoch 142/150\n",
      "160/160 [==============================] - 0s 1ms/step - loss: 0.2859 - accuracy: 0.8831\n",
      "Epoch 143/150\n",
      "160/160 [==============================] - 0s 1ms/step - loss: 0.2938 - accuracy: 0.8813\n",
      "Epoch 144/150\n",
      "160/160 [==============================] - 0s 1ms/step - loss: 0.2814 - accuracy: 0.8850\n",
      "Epoch 145/150\n",
      "160/160 [==============================] - 0s 1ms/step - loss: 0.2831 - accuracy: 0.8800\n",
      "Epoch 146/150\n",
      "160/160 [==============================] - 0s 1ms/step - loss: 0.2883 - accuracy: 0.8825\n",
      "Epoch 147/150\n",
      "160/160 [==============================] - 0s 2ms/step - loss: 0.2805 - accuracy: 0.8838\n",
      "Epoch 148/150\n",
      "160/160 [==============================] - 0s 1ms/step - loss: 0.2815 - accuracy: 0.8794\n",
      "Epoch 149/150\n",
      "160/160 [==============================] - 0s 1ms/step - loss: 0.2819 - accuracy: 0.8831\n",
      "Epoch 150/150\n",
      "160/160 [==============================] - 0s 939us/step - loss: 0.2722 - accuracy: 0.8906\n"
     ]
    }
   ],
   "source": [
    "#Tuning du nombre de couches cachées et du nombre de neurones\n",
    "parameter_grid = dict(nl=nl,nn=nn)\n",
    "\n",
    "grid = GridSearchCV(estimator = model, param_grid = parameter_grid, n_jobs=-1, cv=3)\n",
    "grid_result = grid.fit(X_train, y_train)"
   ]
  },
  {
   "cell_type": "code",
   "execution_count": 74,
   "metadata": {},
   "outputs": [
    {
     "name": "stdout",
     "output_type": "stream",
     "text": [
      "Best accuracy: 0.871859 using {'nl': 3, 'nn': 10}\n"
     ]
    }
   ],
   "source": [
    "#Meilleur score et paramètres\n",
    "print('Best accuracy: %f using %s' % (grid_result.best_score_,grid_result.best_params_ ))"
   ]
  },
  {
   "cell_type": "code",
   "execution_count": 75,
   "metadata": {},
   "outputs": [],
   "source": [
    "best_model = Sequential()\n",
    "best_model.add(Dense(10, input_dim = 5, activation='tanh'))\n",
    "best_model.add(Dense(10,activation='tanh'))\n",
    "best_model.add(Dense(10,activation='tanh'))\n",
    "best_model.add(Dense(10,activation='tanh'))\n",
    "best_model.add(Dense(1,activation='sigmoid'))\n",
    "best_model.compile(optimizer='Adam', loss='binary_crossentropy', metrics = ['accuracy'])"
   ]
  },
  {
   "cell_type": "code",
   "execution_count": 76,
   "metadata": {},
   "outputs": [],
   "source": [
    "#Fonction de perte des modèles ANN\n",
    "\n",
    "def plot_history(history_best_model):\n",
    "\n",
    "    fig, axs = plt.subplots(1,2, figsize=(12,4))\n",
    "\n",
    "    axs[0].plot(history_best_model.history['loss'])\n",
    "    axs[0].plot(history_best_model.history['val_loss'])\n",
    "    axs[0].set_title('train and test loss')\n",
    "    axs[0].set_ylabel('loss')\n",
    "    axs[0].set_xlabel('epochs')\n",
    "    axs[0].legend(['train', 'validation'], loc='upper left')\n",
    "\n",
    "    axs[1].plot(history_best_model.history['accuracy'])\n",
    "    axs[1].plot(history_best_model.history['val_accuracy'])\n",
    "    axs[1].set_title('train and test accuracy')\n",
    "    axs[1].set_ylabel('accuracy')\n",
    "    axs[1].set_xlabel('epochs')\n",
    "    axs[1].legend(['train', 'validation'], loc='upper left')\n",
    "\n",
    "    plt.show()"
   ]
  },
  {
   "cell_type": "code",
   "execution_count": 77,
   "metadata": {},
   "outputs": [
    {
     "name": "stdout",
     "output_type": "stream",
     "text": [
      "Model: \"sequential_4\"\n",
      "_________________________________________________________________\n",
      "Layer (type)                 Output Shape              Param #   \n",
      "=================================================================\n",
      "dense_11 (Dense)             (None, 10)                60        \n",
      "_________________________________________________________________\n",
      "dense_12 (Dense)             (None, 10)                110       \n",
      "_________________________________________________________________\n",
      "dense_13 (Dense)             (None, 10)                110       \n",
      "_________________________________________________________________\n",
      "dense_14 (Dense)             (None, 10)                110       \n",
      "_________________________________________________________________\n",
      "dense_15 (Dense)             (None, 1)                 11        \n",
      "=================================================================\n",
      "Total params: 401\n",
      "Trainable params: 401\n",
      "Non-trainable params: 0\n",
      "_________________________________________________________________\n"
     ]
    },
    {
     "data": {
      "image/png": "[encoded data removed]",
      "text/plain": [
       "<Figure size 864x288 with 2 Axes>"
      ]
     },
     "metadata": {
      "needs_background": "light"
     },
     "output_type": "display_data"
    },
    {
     "ename": "ValueError",
     "evalue": "Classification metrics can't handle a mix of binary and continuous targets",
     "output_type": "error",
     "traceback": [
      "\u001b[0;31m---------------------------------------------------------------------------\u001b[0m",
      "\u001b[0;31mValueError\u001b[0m                                Traceback (most recent call last)",
      "\u001b[0;32m<ipython-input-77-5f49430fdc7f>\u001b[0m in \u001b[0;36m<module>\u001b[0;34m\u001b[0m\n\u001b[1;32m     10\u001b[0m \u001b[0;31m#La prediction ne fonctionne pas, la variable y_predann est considérée comme continue\u001b[0m\u001b[0;34m\u001b[0m\u001b[0;34m\u001b[0m\u001b[0;34m\u001b[0m\u001b[0m\n\u001b[1;32m     11\u001b[0m \u001b[0;31m#Tentative d'utiliser la méthode predict_classes sans succès\u001b[0m\u001b[0;34m\u001b[0m\u001b[0;34m\u001b[0m\u001b[0;34m\u001b[0m\u001b[0m\n\u001b[0;32m---> 12\u001b[0;31m \u001b[0mprint\u001b[0m\u001b[0;34m(\u001b[0m\u001b[0mconfusion_matrix\u001b[0m\u001b[0;34m(\u001b[0m\u001b[0my_test\u001b[0m\u001b[0;34m,\u001b[0m \u001b[0my_predann\u001b[0m\u001b[0;34m)\u001b[0m\u001b[0;34m)\u001b[0m\u001b[0;34m\u001b[0m\u001b[0;34m\u001b[0m\u001b[0m\n\u001b[0m\u001b[1;32m     13\u001b[0m \u001b[0mprint\u001b[0m\u001b[0;34m(\u001b[0m\u001b[0mclassification_report\u001b[0m\u001b[0;34m(\u001b[0m\u001b[0my_test\u001b[0m\u001b[0;34m,\u001b[0m \u001b[0my_predann\u001b[0m\u001b[0;34m)\u001b[0m\u001b[0;34m)\u001b[0m\u001b[0;34m\u001b[0m\u001b[0;34m\u001b[0m\u001b[0m\n\u001b[1;32m     14\u001b[0m \u001b[0mprint\u001b[0m\u001b[0;34m(\u001b[0m\u001b[0mmodel\u001b[0m\u001b[0;34m.\u001b[0m\u001b[0mevaluate\u001b[0m\u001b[0;34m(\u001b[0m\u001b[0mX_test\u001b[0m\u001b[0;34m,\u001b[0m \u001b[0my_test\u001b[0m\u001b[0;34m)\u001b[0m\u001b[0;34m[\u001b[0m\u001b[0;36m1\u001b[0m\u001b[0;34m]\u001b[0m\u001b[0;34m)\u001b[0m\u001b[0;34m\u001b[0m\u001b[0;34m\u001b[0m\u001b[0m\n",
      "\u001b[0;32m~/opt/anaconda3/lib/python3.7/site-packages/sklearn/metrics/_classification.py\u001b[0m in \u001b[0;36mconfusion_matrix\u001b[0;34m(y_true, y_pred, labels, sample_weight, normalize)\u001b[0m\n\u001b[1;32m    300\u001b[0m \u001b[0;34m\u001b[0m\u001b[0m\n\u001b[1;32m    301\u001b[0m     \"\"\"\n\u001b[0;32m--> 302\u001b[0;31m     \u001b[0my_type\u001b[0m\u001b[0;34m,\u001b[0m \u001b[0my_true\u001b[0m\u001b[0;34m,\u001b[0m \u001b[0my_pred\u001b[0m \u001b[0;34m=\u001b[0m \u001b[0m_check_targets\u001b[0m\u001b[0;34m(\u001b[0m\u001b[0my_true\u001b[0m\u001b[0;34m,\u001b[0m \u001b[0my_pred\u001b[0m\u001b[0;34m)\u001b[0m\u001b[0;34m\u001b[0m\u001b[0;34m\u001b[0m\u001b[0m\n\u001b[0m\u001b[1;32m    303\u001b[0m     \u001b[0;32mif\u001b[0m \u001b[0my_type\u001b[0m \u001b[0;32mnot\u001b[0m \u001b[0;32min\u001b[0m \u001b[0;34m(\u001b[0m\u001b[0;34m\"binary\"\u001b[0m\u001b[0;34m,\u001b[0m \u001b[0;34m\"multiclass\"\u001b[0m\u001b[0;34m)\u001b[0m\u001b[0;34m:\u001b[0m\u001b[0;34m\u001b[0m\u001b[0;34m\u001b[0m\u001b[0m\n\u001b[1;32m    304\u001b[0m         \u001b[0;32mraise\u001b[0m \u001b[0mValueError\u001b[0m\u001b[0;34m(\u001b[0m\u001b[0;34m\"%s is not supported\"\u001b[0m \u001b[0;34m%\u001b[0m \u001b[0my_type\u001b[0m\u001b[0;34m)\u001b[0m\u001b[0;34m\u001b[0m\u001b[0;34m\u001b[0m\u001b[0m\n",
      "\u001b[0;32m~/opt/anaconda3/lib/python3.7/site-packages/sklearn/metrics/_classification.py\u001b[0m in \u001b[0;36m_check_targets\u001b[0;34m(y_true, y_pred)\u001b[0m\n\u001b[1;32m     93\u001b[0m         raise ValueError(\n\u001b[1;32m     94\u001b[0m             \"Classification metrics can't handle a mix of {0} and {1} targets\".format(\n\u001b[0;32m---> 95\u001b[0;31m                 \u001b[0mtype_true\u001b[0m\u001b[0;34m,\u001b[0m \u001b[0mtype_pred\u001b[0m\u001b[0;34m\u001b[0m\u001b[0;34m\u001b[0m\u001b[0m\n\u001b[0m\u001b[1;32m     96\u001b[0m             )\n\u001b[1;32m     97\u001b[0m         )\n",
      "\u001b[0;31mValueError\u001b[0m: Classification metrics can't handle a mix of binary and continuous targets"
     ]
    }
   ],
   "source": [
    "best_model.summary()\n",
    "\n",
    "history_best_model = best_model.fit(X_train, y_train, validation_data=(X_test,y_test),epochs=150, \n",
    "                                    batch_size=10, verbose = 0)\n",
    "\n",
    "plot_history(history_best_model)\n",
    "\n",
    "y_predann = best_model.predict(X_test)\n",
    "\n",
    "#La prediction ne fonctionne pas, la variable y_predann est considérée comme continue\n",
    "#Tentative d'utiliser la méthode predict_classes sans succès\n",
    "print(confusion_matrix(y_test, y_predann))\n",
    "print(classification_report(y_test, y_predann))\n",
    "print(model.evaluate(X_test, y_test)[1])"
   ]
  },
  {
   "cell_type": "code",
   "execution_count": null,
   "metadata": {},
   "outputs": [],
   "source": []
  }
 ],
 "metadata": {
  "kernelspec": {
   "display_name": "Python 3",
   "language": "python",
   "name": "python3"
  },
  "language_info": {
   "codemirror_mode": {
    "name": "ipython",
    "version": 3
   },
   "file_extension": ".py",
   "mimetype": "text/x-python",
   "name": "python",
   "nbconvert_exporter": "python",
   "pygments_lexer": "ipython3",
   "version": "3.7.4"
  }
 },
 "nbformat": 4,
 "nbformat_minor": 4
}
